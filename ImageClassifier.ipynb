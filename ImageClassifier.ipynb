{
  "nbformat": 4,
  "nbformat_minor": 0,
  "metadata": {
    "colab": {
      "name": "ImageClassifier.ipynb",
      "provenance": [],
      "collapsed_sections": [],
      "include_colab_link": true
    },
    "kernelspec": {
      "name": "python3",
      "display_name": "Python 3"
    },
    "language_info": {
      "name": "python"
    },
    "accelerator": "GPU"
  },
  "cells": [
    {
      "cell_type": "markdown",
      "metadata": {
        "id": "view-in-github",
        "colab_type": "text"
      },
      "source": [
        "<a href=\"https://colab.research.google.com/github/aperrier004/video-analysis/blob/main/ImageClassifier.ipynb\" target=\"_parent\"><img src=\"https://colab.research.google.com/assets/colab-badge.svg\" alt=\"Open In Colab\"/></a>"
      ]
    },
    {
      "cell_type": "markdown",
      "source": [
        "# Projet du module Analyse de Vidéos\n",
        "\n",
        "Ce projet consiste à détecter et suivre des objets sur des vidéos du dataset Grasp In The Wild. Il se décompose en trois parties distinctes :\n",
        "\n",
        "\n",
        "1.   Entrainement d'un modèle de classification des objets à détecter\n",
        "2.   Implémentation d'un tracker pour suivre l'objet à détecter dans une vidéo\n",
        "3.   Amélioration du modèle avec une approche incremental learning\n",
        "\n",
        "*Ce projet a été réalisé par Alban Perrier et Erwan Cado, encadrés par Boris Mansencal, responsable du module Analyse de Vidéos.*\n",
        "\n"
      ],
      "metadata": {
        "id": "dn6RHeEGRqhR"
      }
    },
    {
      "cell_type": "markdown",
      "source": [
        "## Entrainement du modèle de classification\n",
        "\n",
        "Pour le modèle de classification, nous avons choisi d'entrainer uniquement les couches de classification d'un modèle MobileNetV2 pré-entraîné. Ce modèle a été entrainé sur des images d'objets extraites des vidéos du dataset GITW_Light."
      ],
      "metadata": {
        "id": "dwHXi9H5UAdB"
      }
    },
    {
      "cell_type": "code",
      "source": [
        "from google.colab import drive\n",
        "drive.mount('/content/drive')"
      ],
      "metadata": {
        "colab": {
          "base_uri": "https://localhost:8080/"
        },
        "id": "HST7C3uqSeOA",
        "outputId": "f857a1e3-31e2-42d2-b89f-84d237e315b8"
      },
      "execution_count": null,
      "outputs": [
        {
          "output_type": "stream",
          "name": "stdout",
          "text": [
            "Mounted at /content/drive\n"
          ]
        }
      ]
    },
    {
      "cell_type": "code",
      "source": [
        "# On accède au répertoire du projet\n",
        "\n",
        "%cd drive/MyDrive/3A/Analyse_de_vidéos/GITW_Light/"
      ],
      "metadata": {
        "colab": {
          "base_uri": "https://localhost:8080/"
        },
        "id": "TTmHEZezyJb6",
        "outputId": "80fd737b-67b6-408d-c237-9d510d4bb0c7"
      },
      "execution_count": null,
      "outputs": [
        {
          "output_type": "stream",
          "name": "stdout",
          "text": [
            "/content/drive/MyDrive/3A/Analyse_de_vidéos/GITW_Light\n"
          ]
        }
      ]
    },
    {
      "cell_type": "code",
      "execution_count": null,
      "metadata": {
        "id": "SiGmLBWRmhQ8"
      },
      "outputs": [],
      "source": [
        "# Import de tensorflow et keras\n",
        "\n",
        "from tensorflow import keras\n",
        "import tensorflow as tf\n",
        "import datetime"
      ]
    },
    {
      "cell_type": "code",
      "source": [
        "BATCH_SIZE = 32\n",
        "IMAGE_SIZE = (227,227)"
      ],
      "metadata": {
        "id": "LZcHUWlIWPtZ"
      },
      "execution_count": null,
      "outputs": []
    },
    {
      "cell_type": "markdown",
      "source": [
        "### Récupération des données et chargement du modèle\n"
      ],
      "metadata": {
        "id": "kEoB7T8ZVMfl"
      }
    },
    {
      "cell_type": "code",
      "source": [
        "train_dataset = keras.utils.image_dataset_from_directory(\"DB/train\", image_size=IMAGE_SIZE, batch_size=BATCH_SIZE)\n",
        "test_dataset = keras.utils.image_dataset_from_directory(\"DB/test\", shuffle=False, image_size=IMAGE_SIZE, batch_size=BATCH_SIZE)\n",
        "base_model = keras.models.load_model(\"models/mobilenet_based__16.h5\")\n",
        "\n",
        "base_model.summary()"
      ],
      "metadata": {
        "colab": {
          "base_uri": "https://localhost:8080/"
        },
        "id": "7xTUiZP8xpAo",
        "outputId": "4570478a-2b2d-453f-ef53-f7e99ef856c7"
      },
      "execution_count": null,
      "outputs": [
        {
          "output_type": "stream",
          "name": "stdout",
          "text": [
            "Found 4736 files belonging to 5 classes.\n",
            "Found 3568 files belonging to 5 classes.\n",
            "Model: \"functional_1\"\n",
            "_________________________________________________________________\n",
            " Layer (type)                Output Shape              Param #   \n",
            "=================================================================\n",
            " input_1 (InputLayer)        [(None, 227, 227, 3)]     0         \n",
            "                                                                 \n",
            " conv1_pad (ZeroPadding2D)   (None, 228, 228, 3)       0         \n",
            "                                                                 \n",
            " conv1 (Conv2D)              (None, 113, 113, 32)      864       \n",
            "                                                                 \n",
            " conv1_bn (BatchNormalizatio  (None, 113, 113, 32)     128       \n",
            " n)                                                              \n",
            "                                                                 \n",
            " conv1_relu (ReLU)           (None, 113, 113, 32)      0         \n",
            "                                                                 \n",
            " conv_dw_1 (DepthwiseConv2D)  (None, 113, 113, 32)     288       \n",
            "                                                                 \n",
            " conv_dw_1_bn (BatchNormaliz  (None, 113, 113, 32)     128       \n",
            " ation)                                                          \n",
            "                                                                 \n",
            " conv_dw_1_relu (ReLU)       (None, 113, 113, 32)      0         \n",
            "                                                                 \n",
            " conv_pw_1 (Conv2D)          (None, 113, 113, 64)      2048      \n",
            "                                                                 \n",
            " conv_pw_1_bn (BatchNormaliz  (None, 113, 113, 64)     256       \n",
            " ation)                                                          \n",
            "                                                                 \n",
            " conv_pw_1_relu (ReLU)       (None, 113, 113, 64)      0         \n",
            "                                                                 \n",
            " conv_pad_2 (ZeroPadding2D)  (None, 114, 114, 64)      0         \n",
            "                                                                 \n",
            " conv_dw_2 (DepthwiseConv2D)  (None, 56, 56, 64)       576       \n",
            "                                                                 \n",
            " conv_dw_2_bn (BatchNormaliz  (None, 56, 56, 64)       256       \n",
            " ation)                                                          \n",
            "                                                                 \n",
            " conv_dw_2_relu (ReLU)       (None, 56, 56, 64)        0         \n",
            "                                                                 \n",
            " conv_pw_2 (Conv2D)          (None, 56, 56, 128)       8192      \n",
            "                                                                 \n",
            " conv_pw_2_bn (BatchNormaliz  (None, 56, 56, 128)      512       \n",
            " ation)                                                          \n",
            "                                                                 \n",
            " conv_pw_2_relu (ReLU)       (None, 56, 56, 128)       0         \n",
            "                                                                 \n",
            " conv_dw_3 (DepthwiseConv2D)  (None, 56, 56, 128)      1152      \n",
            "                                                                 \n",
            " conv_dw_3_bn (BatchNormaliz  (None, 56, 56, 128)      512       \n",
            " ation)                                                          \n",
            "                                                                 \n",
            " conv_dw_3_relu (ReLU)       (None, 56, 56, 128)       0         \n",
            "                                                                 \n",
            " conv_pw_3 (Conv2D)          (None, 56, 56, 128)       16384     \n",
            "                                                                 \n",
            " conv_pw_3_bn (BatchNormaliz  (None, 56, 56, 128)      512       \n",
            " ation)                                                          \n",
            "                                                                 \n",
            " conv_pw_3_relu (ReLU)       (None, 56, 56, 128)       0         \n",
            "                                                                 \n",
            " conv_pad_4 (ZeroPadding2D)  (None, 57, 57, 128)       0         \n",
            "                                                                 \n",
            " conv_dw_4 (DepthwiseConv2D)  (None, 28, 28, 128)      1152      \n",
            "                                                                 \n",
            " conv_dw_4_bn (BatchNormaliz  (None, 28, 28, 128)      512       \n",
            " ation)                                                          \n",
            "                                                                 \n",
            " conv_dw_4_relu (ReLU)       (None, 28, 28, 128)       0         \n",
            "                                                                 \n",
            " conv_pw_4 (Conv2D)          (None, 28, 28, 256)       32768     \n",
            "                                                                 \n",
            " conv_pw_4_bn (BatchNormaliz  (None, 28, 28, 256)      1024      \n",
            " ation)                                                          \n",
            "                                                                 \n",
            " conv_pw_4_relu (ReLU)       (None, 28, 28, 256)       0         \n",
            "                                                                 \n",
            " conv_dw_5 (DepthwiseConv2D)  (None, 28, 28, 256)      2304      \n",
            "                                                                 \n",
            " conv_dw_5_bn (BatchNormaliz  (None, 28, 28, 256)      1024      \n",
            " ation)                                                          \n",
            "                                                                 \n",
            " conv_dw_5_relu (ReLU)       (None, 28, 28, 256)       0         \n",
            "                                                                 \n",
            " conv_pw_5 (Conv2D)          (None, 28, 28, 256)       65536     \n",
            "                                                                 \n",
            " conv_pw_5_bn (BatchNormaliz  (None, 28, 28, 256)      1024      \n",
            " ation)                                                          \n",
            "                                                                 \n",
            " conv_pw_5_relu (ReLU)       (None, 28, 28, 256)       0         \n",
            "                                                                 \n",
            " conv_pad_6 (ZeroPadding2D)  (None, 29, 29, 256)       0         \n",
            "                                                                 \n",
            " conv_dw_6 (DepthwiseConv2D)  (None, 14, 14, 256)      2304      \n",
            "                                                                 \n",
            " conv_dw_6_bn (BatchNormaliz  (None, 14, 14, 256)      1024      \n",
            " ation)                                                          \n",
            "                                                                 \n",
            " conv_dw_6_relu (ReLU)       (None, 14, 14, 256)       0         \n",
            "                                                                 \n",
            " conv_pw_6 (Conv2D)          (None, 14, 14, 512)       131072    \n",
            "                                                                 \n",
            " conv_pw_6_bn (BatchNormaliz  (None, 14, 14, 512)      2048      \n",
            " ation)                                                          \n",
            "                                                                 \n",
            " conv_pw_6_relu (ReLU)       (None, 14, 14, 512)       0         \n",
            "                                                                 \n",
            " conv_dw_7 (DepthwiseConv2D)  (None, 14, 14, 512)      4608      \n",
            "                                                                 \n",
            " conv_dw_7_bn (BatchNormaliz  (None, 14, 14, 512)      2048      \n",
            " ation)                                                          \n",
            "                                                                 \n",
            " conv_dw_7_relu (ReLU)       (None, 14, 14, 512)       0         \n",
            "                                                                 \n",
            " conv_pw_7 (Conv2D)          (None, 14, 14, 512)       262144    \n",
            "                                                                 \n",
            " conv_pw_7_bn (BatchNormaliz  (None, 14, 14, 512)      2048      \n",
            " ation)                                                          \n",
            "                                                                 \n",
            " conv_pw_7_relu (ReLU)       (None, 14, 14, 512)       0         \n",
            "                                                                 \n",
            " conv_dw_8 (DepthwiseConv2D)  (None, 14, 14, 512)      4608      \n",
            "                                                                 \n",
            " conv_dw_8_bn (BatchNormaliz  (None, 14, 14, 512)      2048      \n",
            " ation)                                                          \n",
            "                                                                 \n",
            " conv_dw_8_relu (ReLU)       (None, 14, 14, 512)       0         \n",
            "                                                                 \n",
            " conv_pw_8 (Conv2D)          (None, 14, 14, 512)       262144    \n",
            "                                                                 \n",
            " conv_pw_8_bn (BatchNormaliz  (None, 14, 14, 512)      2048      \n",
            " ation)                                                          \n",
            "                                                                 \n",
            " conv_pw_8_relu (ReLU)       (None, 14, 14, 512)       0         \n",
            "                                                                 \n",
            " conv_dw_9 (DepthwiseConv2D)  (None, 14, 14, 512)      4608      \n",
            "                                                                 \n",
            " conv_dw_9_bn (BatchNormaliz  (None, 14, 14, 512)      2048      \n",
            " ation)                                                          \n",
            "                                                                 \n",
            " conv_dw_9_relu (ReLU)       (None, 14, 14, 512)       0         \n",
            "                                                                 \n",
            " conv_pw_9 (Conv2D)          (None, 14, 14, 512)       262144    \n",
            "                                                                 \n",
            " conv_pw_9_bn (BatchNormaliz  (None, 14, 14, 512)      2048      \n",
            " ation)                                                          \n",
            "                                                                 \n",
            " conv_pw_9_relu (ReLU)       (None, 14, 14, 512)       0         \n",
            "                                                                 \n",
            " conv_dw_10 (DepthwiseConv2D  (None, 14, 14, 512)      4608      \n",
            " )                                                               \n",
            "                                                                 \n",
            " conv_dw_10_bn (BatchNormali  (None, 14, 14, 512)      2048      \n",
            " zation)                                                         \n",
            "                                                                 \n",
            " conv_dw_10_relu (ReLU)      (None, 14, 14, 512)       0         \n",
            "                                                                 \n",
            " conv_pw_10 (Conv2D)         (None, 14, 14, 512)       262144    \n",
            "                                                                 \n",
            " conv_pw_10_bn (BatchNormali  (None, 14, 14, 512)      2048      \n",
            " zation)                                                         \n",
            "                                                                 \n",
            " conv_pw_10_relu (ReLU)      (None, 14, 14, 512)       0         \n",
            "                                                                 \n",
            " conv_dw_11 (DepthwiseConv2D  (None, 14, 14, 512)      4608      \n",
            " )                                                               \n",
            "                                                                 \n",
            " conv_dw_11_bn (BatchNormali  (None, 14, 14, 512)      2048      \n",
            " zation)                                                         \n",
            "                                                                 \n",
            " conv_dw_11_relu (ReLU)      (None, 14, 14, 512)       0         \n",
            "                                                                 \n",
            " conv_pw_11 (Conv2D)         (None, 14, 14, 512)       262144    \n",
            "                                                                 \n",
            " conv_pw_11_bn (BatchNormali  (None, 14, 14, 512)      2048      \n",
            " zation)                                                         \n",
            "                                                                 \n",
            " conv_pw_11_relu (ReLU)      (None, 14, 14, 512)       0         \n",
            "                                                                 \n",
            " conv_pad_12 (ZeroPadding2D)  (None, 15, 15, 512)      0         \n",
            "                                                                 \n",
            " conv_dw_12 (DepthwiseConv2D  (None, 7, 7, 512)        4608      \n",
            " )                                                               \n",
            "                                                                 \n",
            " conv_dw_12_bn (BatchNormali  (None, 7, 7, 512)        2048      \n",
            " zation)                                                         \n",
            "                                                                 \n",
            " conv_dw_12_relu (ReLU)      (None, 7, 7, 512)         0         \n",
            "                                                                 \n",
            " conv_pw_12 (Conv2D)         (None, 7, 7, 1024)        524288    \n",
            "                                                                 \n",
            " conv_pw_12_bn (BatchNormali  (None, 7, 7, 1024)       4096      \n",
            " zation)                                                         \n",
            "                                                                 \n",
            " conv_pw_12_relu (ReLU)      (None, 7, 7, 1024)        0         \n",
            "                                                                 \n",
            " conv_dw_13 (DepthwiseConv2D  (None, 7, 7, 1024)       9216      \n",
            " )                                                               \n",
            "                                                                 \n",
            " conv_dw_13_bn (BatchNormali  (None, 7, 7, 1024)       4096      \n",
            " zation)                                                         \n",
            "                                                                 \n",
            " conv_dw_13_relu (ReLU)      (None, 7, 7, 1024)        0         \n",
            "                                                                 \n",
            " conv_pw_13 (Conv2D)         (None, 7, 7, 1024)        1048576   \n",
            "                                                                 \n",
            " conv_pw_13_bn (BatchNormali  (None, 7, 7, 1024)       4096      \n",
            " zation)                                                         \n",
            "                                                                 \n",
            " conv_pw_13_relu (ReLU)      (None, 7, 7, 1024)        0         \n",
            "                                                                 \n",
            " flatten (Flatten)           (None, 50176)             0         \n",
            "                                                                 \n",
            " dense (Dense)               (None, 512)               25690624  \n",
            "                                                                 \n",
            " dense_1 (Dense)             (None, 5)                 2565      \n",
            "                                                                 \n",
            "=================================================================\n",
            "Total params: 28,922,053\n",
            "Trainable params: 28,900,165\n",
            "Non-trainable params: 21,888\n",
            "_________________________________________________________________\n"
          ]
        }
      ]
    },
    {
      "cell_type": "markdown",
      "source": [
        "On optimise la lecture des données pour permettre un entraînement plus rapide."
      ],
      "metadata": {
        "id": "qPN034NVVuGc"
      }
    },
    {
      "cell_type": "code",
      "source": [
        "AUTOTUNE = tf.data.AUTOTUNE\n",
        "\n",
        "train_dataset = train_dataset.prefetch(buffer_size=AUTOTUNE)\n",
        "test_dataset = test_dataset.prefetch(buffer_size=AUTOTUNE)"
      ],
      "metadata": {
        "id": "SusKaUJ6WFfg"
      },
      "execution_count": null,
      "outputs": []
    },
    {
      "cell_type": "markdown",
      "source": [
        "### Création du nouveau modèle"
      ],
      "metadata": {
        "id": "-9ZLJ6AmW0-U"
      }
    },
    {
      "cell_type": "markdown",
      "source": [
        "On applique le preprocessing utilisé lors de l'entraînement du modèle MobileNetV2. Ensuite, on ajoute des couches de classification au modèle de base et on compile le nouveau modèle."
      ],
      "metadata": {
        "id": "WqruvYr1V5Fm"
      }
    },
    {
      "cell_type": "code",
      "source": [
        "preprocess_input = keras.applications.mobilenet_v2.preprocess_input\n",
        "IMG_SHAPE = IMAGE_SIZE + (3,)\n",
        "base_model.trainable = False"
      ],
      "metadata": {
        "id": "ew6_7Ee8W-f9"
      },
      "execution_count": null,
      "outputs": []
    },
    {
      "cell_type": "code",
      "source": [
        "inputs = keras.Input(shape=IMG_SHAPE)\n",
        "x = preprocess_input(inputs)\n",
        "x = base_model(x, training=False)\n",
        "x = keras.layers.Flatten()(x)\n",
        "x = keras.layers.Dense(512, activation='relu')(x)\n",
        "outputs = keras.layers.Dense(5, activation='softmax')(x)\n",
        "model = keras.Model(inputs, outputs)"
      ],
      "metadata": {
        "id": "fIgtwdbDYwi7"
      },
      "execution_count": null,
      "outputs": []
    },
    {
      "cell_type": "code",
      "source": [
        "base_learning_rate = 0.0001\n",
        "model.compile(optimizer=tf.keras.optimizers.Adam(learning_rate=base_learning_rate),\n",
        "              loss=tf.keras.losses.SparseCategoricalCrossentropy(from_logits=False),\n",
        "              metrics=['accuracy'])"
      ],
      "metadata": {
        "id": "Ti0_wnJqaZ3k"
      },
      "execution_count": null,
      "outputs": []
    },
    {
      "cell_type": "code",
      "source": [
        "model.summary()"
      ],
      "metadata": {
        "colab": {
          "base_uri": "https://localhost:8080/"
        },
        "id": "ah319Muzaz_T",
        "outputId": "9e7cbb92-a5ce-4d98-d35e-4456b986b83c"
      },
      "execution_count": null,
      "outputs": [
        {
          "output_type": "stream",
          "name": "stdout",
          "text": [
            "Model: \"model\"\n",
            "_________________________________________________________________\n",
            " Layer (type)                Output Shape              Param #   \n",
            "=================================================================\n",
            " input_1 (InputLayer)        [(None, 227, 227, 3)]     0         \n",
            "                                                                 \n",
            " tf.math.truediv (TFOpLambda  (None, 227, 227, 3)      0         \n",
            " )                                                               \n",
            "                                                                 \n",
            " tf.math.subtract (TFOpLambd  (None, 227, 227, 3)      0         \n",
            " a)                                                              \n",
            "                                                                 \n",
            " functional_1 (Functional)   (None, 5)                 28922053  \n",
            "                                                                 \n",
            " flatten (Flatten)           (None, 5)                 0         \n",
            "                                                                 \n",
            " dense (Dense)               (None, 512)               3072      \n",
            "                                                                 \n",
            " dense_1 (Dense)             (None, 5)                 2565      \n",
            "                                                                 \n",
            "=================================================================\n",
            "Total params: 28,927,690\n",
            "Trainable params: 5,637\n",
            "Non-trainable params: 28,922,053\n",
            "_________________________________________________________________\n"
          ]
        }
      ]
    },
    {
      "cell_type": "markdown",
      "source": [
        "### Entraînement du modèle"
      ],
      "metadata": {
        "id": "P87NzjfiW9w0"
      }
    },
    {
      "cell_type": "code",
      "source": [
        "initial_epochs = 10\n",
        "\n",
        "history = model.fit(train_dataset,\n",
        "                    epochs=initial_epochs)"
      ],
      "metadata": {
        "colab": {
          "base_uri": "https://localhost:8080/"
        },
        "id": "MeH8R4cRbncB",
        "outputId": "51014129-dc33-42eb-a47f-af26974f7fe3"
      },
      "execution_count": null,
      "outputs": [
        {
          "output_type": "stream",
          "name": "stdout",
          "text": [
            "Epoch 1/10\n",
            "148/148 [==============================] - 457s 3s/step - loss: 1.4397 - accuracy: 0.8254\n",
            "Epoch 2/10\n",
            "148/148 [==============================] - 183s 1s/step - loss: 1.0474 - accuracy: 0.9994\n",
            "Epoch 3/10\n",
            "148/148 [==============================] - 183s 1s/step - loss: 0.6763 - accuracy: 0.9994\n",
            "Epoch 4/10\n",
            "148/148 [==============================] - 184s 1s/step - loss: 0.3927 - accuracy: 0.9994\n",
            "Epoch 5/10\n",
            "148/148 [==============================] - 182s 1s/step - loss: 0.2239 - accuracy: 0.9994\n",
            "Epoch 6/10\n",
            "148/148 [==============================] - 182s 1s/step - loss: 0.1347 - accuracy: 0.9994\n",
            "Epoch 7/10\n",
            "148/148 [==============================] - 181s 1s/step - loss: 0.0873 - accuracy: 0.9994\n",
            "Epoch 8/10\n",
            "148/148 [==============================] - 180s 1s/step - loss: 0.0605 - accuracy: 0.9994\n",
            "Epoch 9/10\n",
            "148/148 [==============================] - 181s 1s/step - loss: 0.0442 - accuracy: 0.9994\n",
            "Epoch 10/10\n",
            "148/148 [==============================] - 180s 1s/step - loss: 0.0338 - accuracy: 0.9994\n"
          ]
        }
      ]
    },
    {
      "cell_type": "markdown",
      "source": [
        "### Evaluation du modèle\n",
        "\n",
        "Avec une accuracy de 0.96 sur le jeu de test, les résultats du modèle entraîné sont satisfaisants par rapport au benchmark présenté dans les slides de présentation du projet."
      ],
      "metadata": {
        "id": "WQAjaRAhXJGu"
      }
    },
    {
      "cell_type": "code",
      "source": [
        "loss, accuracy = model.evaluate(test_dataset)\n",
        "print('Test accuracy :', accuracy)"
      ],
      "metadata": {
        "colab": {
          "base_uri": "https://localhost:8080/"
        },
        "id": "vFhSXWS1cFOj",
        "outputId": "9046b3d1-9c26-4901-c970-818d9c9831bb"
      },
      "execution_count": null,
      "outputs": [
        {
          "output_type": "stream",
          "name": "stdout",
          "text": [
            "112/112 [==============================] - 433s 4s/step - loss: 0.1512 - accuracy: 0.9664\n",
            "Test accuracy : 0.9663677215576172\n"
          ]
        }
      ]
    },
    {
      "cell_type": "markdown",
      "source": [
        "On sauvegarde les poids du modèle entraîné afin de pouvoir l'utiliser pour lancer des prédictions."
      ],
      "metadata": {
        "id": "IzbUvi3pXhdK"
      }
    },
    {
      "cell_type": "code",
      "source": [
        "model.save(\"fine-tuned-trained-mobilenet\")"
      ],
      "metadata": {
        "colab": {
          "base_uri": "https://localhost:8080/"
        },
        "id": "LUh9iXrFtdf2",
        "outputId": "d741ec98-4ff6-4a3e-c1cf-5e81fff44a73"
      },
      "execution_count": null,
      "outputs": [
        {
          "output_type": "stream",
          "name": "stdout",
          "text": [
            "INFO:tensorflow:Assets written to: fine-tuned-trained-mobilenet/assets\n"
          ]
        }
      ]
    },
    {
      "cell_type": "markdown",
      "source": [
        "## Implémentation d'un tracker\n",
        "\n",
        "Le but du tracker est de suivre l'objet détecté, identifié par une bounding box, tout au long de la vidéo. Pour cela, deux méthodes ont été testées. \n",
        "Tout d'abord, nous avons implémenté un tracker qui consiste à chercher une bounding box où pourrait se trouver l'objet détecté à la frame précédente. On va donc identifier de possibles bounding boxes à l'aide de l'algorithme Selective Search puis, on va lancer des prédictions sur chaque bounding box et garder celle qui a le plus haut taux de confiance. Ensuite, l'autre méthode a consisté à utiliser le Channel and Spatial Reliability Tracker de la librairie OpenCV, en l'initialisant avec la bounding box de l'objet détecté.\n",
        "\n"
      ],
      "metadata": {
        "id": "FtwnLNRwXrgK"
      }
    },
    {
      "cell_type": "markdown",
      "source": [
        "### Set up de l'environnement"
      ],
      "metadata": {
        "id": "8HxMbr1dbOU6"
      }
    },
    {
      "cell_type": "code",
      "source": [
        "! pip install selective-search"
      ],
      "metadata": {
        "id": "i7ZE1HTUazNc",
        "colab": {
          "base_uri": "https://localhost:8080/"
        },
        "outputId": "866fd5e4-ae5a-4502-e0cc-2f31d21f5484"
      },
      "execution_count": null,
      "outputs": [
        {
          "output_type": "stream",
          "name": "stdout",
          "text": [
            "Collecting selective-search\n",
            "  Downloading selective_search-1.0.0-py3-none-any.whl (9.2 kB)\n",
            "Requirement already satisfied: scipy in /usr/local/lib/python3.7/dist-packages (from selective-search) (1.4.1)\n",
            "Requirement already satisfied: numpy in /usr/local/lib/python3.7/dist-packages (from selective-search) (1.19.5)\n",
            "Requirement already satisfied: joblib in /usr/local/lib/python3.7/dist-packages (from selective-search) (1.1.0)\n",
            "Requirement already satisfied: scikit-image in /usr/local/lib/python3.7/dist-packages (from selective-search) (0.18.3)\n",
            "Requirement already satisfied: matplotlib!=3.0.0,>=2.0.0 in /usr/local/lib/python3.7/dist-packages (from scikit-image->selective-search) (3.2.2)\n",
            "Requirement already satisfied: imageio>=2.3.0 in /usr/local/lib/python3.7/dist-packages (from scikit-image->selective-search) (2.4.1)\n",
            "Requirement already satisfied: PyWavelets>=1.1.1 in /usr/local/lib/python3.7/dist-packages (from scikit-image->selective-search) (1.2.0)\n",
            "Requirement already satisfied: networkx>=2.0 in /usr/local/lib/python3.7/dist-packages (from scikit-image->selective-search) (2.6.3)\n",
            "Requirement already satisfied: tifffile>=2019.7.26 in /usr/local/lib/python3.7/dist-packages (from scikit-image->selective-search) (2021.11.2)\n",
            "Requirement already satisfied: pillow!=7.1.0,!=7.1.1,>=4.3.0 in /usr/local/lib/python3.7/dist-packages (from scikit-image->selective-search) (7.1.2)\n",
            "Requirement already satisfied: pyparsing!=2.0.4,!=2.1.2,!=2.1.6,>=2.0.1 in /usr/local/lib/python3.7/dist-packages (from matplotlib!=3.0.0,>=2.0.0->scikit-image->selective-search) (3.0.6)\n",
            "Requirement already satisfied: kiwisolver>=1.0.1 in /usr/local/lib/python3.7/dist-packages (from matplotlib!=3.0.0,>=2.0.0->scikit-image->selective-search) (1.3.2)\n",
            "Requirement already satisfied: cycler>=0.10 in /usr/local/lib/python3.7/dist-packages (from matplotlib!=3.0.0,>=2.0.0->scikit-image->selective-search) (0.11.0)\n",
            "Requirement already satisfied: python-dateutil>=2.1 in /usr/local/lib/python3.7/dist-packages (from matplotlib!=3.0.0,>=2.0.0->scikit-image->selective-search) (2.8.2)\n",
            "Requirement already satisfied: six>=1.5 in /usr/local/lib/python3.7/dist-packages (from python-dateutil>=2.1->matplotlib!=3.0.0,>=2.0.0->scikit-image->selective-search) (1.15.0)\n",
            "Installing collected packages: selective-search\n",
            "Successfully installed selective-search-1.0.0\n"
          ]
        }
      ]
    },
    {
      "cell_type": "code",
      "source": [
        "import os \n",
        "import cv2\n",
        "from google.colab.patches import cv2_imshow\n",
        "\n",
        "import numpy as np\n",
        "import tensorflow as tf\n",
        "from tensorflow.keras.models import load_model\n",
        "from pathlib import Path\n",
        "import math\n",
        "from scipy.stats import mode\n",
        "from sklearn.cluster import KMeans\n",
        "\n",
        "import selective_search as ss\n",
        "\n",
        "from tensorflow.keras.applications.mobilenet_v2 import preprocess_input as preprocess"
      ],
      "metadata": {
        "id": "w4E2mT5-bV0d"
      },
      "execution_count": null,
      "outputs": []
    },
    {
      "cell_type": "code",
      "source": [
        "videos_dir = 'VIDEOS/'\n",
        "boxes_dir =  'GT/'\n",
        "nb_videos = len(os.listdir(videos_dir))\n",
        "class_indexes = {'Bowl': 0, 'CanOfCocaCola' : 1, 'MilkBottle' : 2, 'Rice' : 3, 'Sugar' : 4}\n",
        "print(f'Nombre de vidéos : {nb_videos}')"
      ],
      "metadata": {
        "id": "eq_Pr_QfbZ6z"
      },
      "execution_count": null,
      "outputs": []
    },
    {
      "cell_type": "markdown",
      "source": [
        "Récupération des bounding boxes d'une vidéo formant sa Ground Truth."
      ],
      "metadata": {
        "id": "F9hp8uJRbyFe"
      }
    },
    {
      "cell_type": "code",
      "source": [
        "def get_video_bbox(bboxes_file):\n",
        "  class_name = Path(bboxes_file).name.split('Place')[0]\n",
        "  print('class_name:', class_name)\n",
        "  bboxes = {}\n",
        "  with open(bboxes_file) as fp: \n",
        "      lines = fp.readlines() \n",
        "      for line in lines: \n",
        "          elts = line.split()\n",
        "          if len(elts) == 2:\n",
        "              assert(elts[1] == \"0\")\n",
        "          else:\n",
        "              assert(len(elts) > 2)\n",
        "              assert(elts[1] == \"1\") #only one bbox per frame\n",
        "              frame_number = (int)(elts[0])\n",
        "              x = (int)(elts[2])\n",
        "              y = (int)(elts[3])\n",
        "              w = (int)(elts[4])\n",
        "              h = (int)(elts[5])\n",
        "              bboxes[frame_number] = (x, y, w, h)\n",
        "\n",
        "  return bboxes, class_name"
      ],
      "metadata": {
        "id": "cio0dGDZbtDF"
      },
      "execution_count": null,
      "outputs": []
    },
    {
      "cell_type": "markdown",
      "source": [
        "### Méthode 1 : Selective Search et modèle de classification"
      ],
      "metadata": {
        "id": "YaPjsk_NaqVc"
      }
    },
    {
      "cell_type": "markdown",
      "source": [
        "Chargement du modèle de classification."
      ],
      "metadata": {
        "id": "EYuhKnazcHUy"
      }
    },
    {
      "cell_type": "code",
      "source": [
        "model = load_model(\"fine-tuned-trained-mobilenet\")\n",
        "model.summary()"
      ],
      "metadata": {
        "id": "Okt4Lbw0cF1x"
      },
      "execution_count": null,
      "outputs": []
    },
    {
      "cell_type": "markdown",
      "source": [
        "Méthodes permettant d'appliquer l'algorithme de selective search et de trouver la zone dans laquelle l'appliquer. On retourne au maximum 10 bounding boxes avec une taille minimum de 128 pixels."
      ],
      "metadata": {
        "id": "DjaOA4a0cbP4"
      }
    },
    {
      "cell_type": "code",
      "source": [
        "def get_search_area(x, y, w, h, ratio, im_width, im_height):\n",
        "  xmin = x\n",
        "  xmax = x+w \n",
        "  ymin = y\n",
        "  ymax = y+h\n",
        "  xmin -= ratio * (xmax - xmin)\n",
        "  xmax += ratio * (xmax - xmin)\n",
        "  ymin -= ratio * (ymax - ymin)\n",
        "  ymax += ratio * (ymax - ymin)\n",
        "\n",
        "  xmin = np.clip(int(xmin), a_min=0, a_max=im_width-1)\n",
        "  xmax = np.clip(int(xmax), a_min=0, a_max=im_width-1)\n",
        "  ymin = np.clip(int(ymin), a_min=0, a_max=im_height-1)\n",
        "  ymax = np.clip(int(ymax), a_min=0, a_max=im_height-1)\n",
        "  return xmin, xmax, ymin, ymax\n",
        "\n",
        "def apply_selective_search(xmin, xmax, ymin, ymax, frame):\n",
        "\n",
        "  area = frame[ymin:ymax, xmin:xmax] # crop\n",
        "  boxes = ss.selective_search(area, mode='single')\n",
        "  boxes_filter = ss.box_filter(boxes, min_size=128, topN=10)\n",
        "  patches = []\n",
        "  bboxes = []\n",
        "  for x1, y1, x2, y2 in boxes_filter:\n",
        "    bbox = (x1, y1, x2-x1, y2-y1)\n",
        "    bboxes.append(bbox)\n",
        "    crop = frame[y1:y2, x1:x2] # crop\n",
        "    patches.append(cv2.resize(crop, IMAGE_SIZE)) # resize\n",
        "  \n",
        "  return bboxes, np.stack(patches, axis=0) # return stacked patches"
      ],
      "metadata": {
        "id": "z5yvHl9WcQd-"
      },
      "execution_count": null,
      "outputs": []
    },
    {
      "cell_type": "markdown",
      "source": [
        "On va ensuite pour chacune des vidéos, initialiser le tracker lors de la détection de l'objet puis, frame par frame, nous allons suivre l'objet en choissisant la bounding box, parmi celles proposées par Selective Search, qui a le plus gros taux de confiance pour l'objet à détecter. A chaque nouvelle frame, notre recherche s'effectuera dans la zone 30% plus grande que la bounding box de la frame précèdente."
      ],
      "metadata": {
        "id": "_YaGfGxqc80H"
      }
    },
    {
      "cell_type": "code",
      "source": [
        "tracking_dir = \"TRACKING-Detection_SelectiveSearch/\"\n",
        "search_ratio = 0.3\n",
        "for index_video in range(1,nb_videos):\n",
        "  video_name = os.listdir(videos_dir)[index_video]\n",
        "  gt_name = video_name.split('.mp4')[0] + '_2_bboxes.txt'\n",
        "  video_path = videos_dir + video_name\n",
        "  gt_path = boxes_dir + gt_name\n",
        "  print(f\"Video : {video_path}, GT path : {gt_path}\")\n",
        "  frame_number = 1\n",
        "  predictions = {} \n",
        "  cap = cv2.VideoCapture(video_path)\n",
        "  tracking = False\n",
        "  tracking_bboxes, label = get_video_bbox(gt_path)\n",
        "  out = cv2.VideoWriter(f\"{tracking_dir + video_name}\", cv2.VideoWriter_fourcc('M','J','P','G'), 25, (1920,1080)) # Writing the tracking result video in the specified tracking directory\n",
        "  while (cap.isOpened()):\n",
        "    ret, frame = cap.read()\n",
        "    if ret == False : \n",
        "        break\n",
        "\n",
        "    fw = int(cap.get(cv2.CAP_PROP_FRAME_WIDTH))\n",
        "    fh = int(cap.get(cv2.CAP_PROP_FRAME_HEIGHT))\n",
        "\n",
        "    if tracking or frame_number in tracking_bboxes:\n",
        "\n",
        "        if not tracking :\n",
        "            assert(frame_number in tracking_bboxes)\n",
        "            current_bbox = tracking_bboxes[frame_number]\n",
        "            tracking = True\n",
        "            x, y, w, h = current_bbox\n",
        "\n",
        "            # Showing detected object on video\n",
        "            cv2.putText(frame, label, (x, y-30), cv2.FONT_HERSHEY_SIMPLEX, 1, (0, 255, 0), 1, cv2.LINE_AA)\n",
        "            cv2.rectangle(frame, (x, y), (x+w, y+h), (0, 0, 255), 2) \n",
        "        else : \n",
        "\n",
        "            # get candidate patches\n",
        "            xmin_area, xmax_area, ymin_area, ymax_area = get_search_area(x, y, w, h, search_ratio, fw, fh)\n",
        "            candidate_bboxes, candidate_bboxes_patches = apply_selective_search(xmin_area, xmax_area, ymin_area, ymax_area, frame)\n",
        "\n",
        "            # select best candidate box\n",
        "            candidate_bboxes_predictions = model.predict(preprocess(candidate_bboxes_patches))\n",
        "            best_prediction_index = np.argmax(candidate_bboxes_predictions[:, class_indexes[label]])\n",
        "            \n",
        "            best_bbox = candidate_bboxes[best_prediction_index]\n",
        "\n",
        "            # Update current box\n",
        "            current_bbox = best_bbox\n",
        "            predictions[frame_number] = best_bbox\n",
        "\n",
        "            # Showing tracker prediction on video\n",
        "            x, y, w, h = current_bbox\n",
        "            cv2.putText(frame, label, (x, y-30), cv2.FONT_HERSHEY_SIMPLEX, 1, (255, 0, 0), 1, cv2.LINE_AA)\n",
        "            cv2.rectangle(frame, (x, y), (x+w, y+h), (255, 0, 0), 1)\n",
        "\n",
        "    out.write(frame)\n",
        "    frame_number += 1\n",
        "\n",
        "  cap.release()\n",
        "  out.realease()"
      ],
      "metadata": {
        "id": "htlKakmSdak6"
      },
      "execution_count": null,
      "outputs": []
    },
    {
      "cell_type": "markdown",
      "source": [
        "### Méthode 2 : Tracker OpenCV\n",
        "\n",
        "Etant donné les résultats peu concluants de la méthode 1, dus à une mauvaise classification sur les objets qui changent souvent de forme et de couleur d'une vidéo à une autre, nous avons essayé d'implémenter un tracker OpenCV n'utilisant pas notre modèle de classification. Nous avons choisi le Channel and Spatial Reliability Tracker car il est le plus précis d'après les benchmarks que nous avons trouvé."
      ],
      "metadata": {
        "id": "HUUlu8TeeO1B"
      }
    },
    {
      "cell_type": "markdown",
      "source": [
        "#### Tracker OpenCV sans update du modèle"
      ],
      "metadata": {
        "id": "T6Gl2Qeeil3Y"
      }
    },
    {
      "cell_type": "code",
      "source": [
        "tracking_dir = \"TRACKING-OpenCV/\"\n",
        "\n",
        "for index_video in range(3,nb_videos):\n",
        "  tracker = cv2.TrackerCSRT_create()\n",
        "  video_name = os.listdir(videos_dir)[index_video]\n",
        "  gt_name = video_name.split('.mp4')[0] + '_2_bboxes.txt'\n",
        "  video_path = videos_dir + video_name\n",
        "  gt_path = boxes_dir + gt_name\n",
        "  print(f\"Video : {video_path}, GT path : {gt_path}\")\n",
        "  frame_number = 1\n",
        "  predictions = {} \n",
        "  cap = cv2.VideoCapture(video_path)\n",
        "  tracking = False\n",
        "  tracking_bboxes, label = get_video_bbox(gt_path)\n",
        "  out = cv2.VideoWriter(f\"{tracking_dir + video_name}\", cv2.VideoWriter_fourcc('M','J','P','G'), 25, (1920,1080)) # Writing the tracking result video in the specified tracking directory\n",
        "  while (cap.isOpened()):\n",
        "    ret, frame = cap.read()\n",
        "    if ret == False : \n",
        "        break\n",
        "\n",
        "    if tracking or frame_number in tracking_bboxes: \n",
        "        if not tracking :\n",
        "            assert(frame_number in tracking_bboxes)\n",
        "            current_bbox = tracking_bboxes[frame_number]\n",
        "            tracking = True\n",
        "            x, y, w, h = current_bbox\n",
        "            ok = tracker.init(frame, (x, y, w, h))\n",
        "\n",
        "            # Showing detected object on video\n",
        "            cv2.putText(frame, label, (x, y-30), cv2.FONT_HERSHEY_SIMPLEX, 1, (0, 255, 0), 1, cv2.LINE_AA)\n",
        "            cv2.rectangle(frame, (x, y), (x+w, y+h), (0, 255, 0), 2) \n",
        "        else:\n",
        "\n",
        "          # Getting the bounding box detected by the tracker\n",
        "          ok, current_bbox = tracker.update(frame)\n",
        "          color = (255, 0, 0)\n",
        "          title = label\n",
        "          if not ok and (frame_number in tracking_bboxes): # We reinitialize the tracker when it looses the object\n",
        "            current_bbox = tracking_bboxes[frame_number]\n",
        "            ok = tracker.init(frame, (x, y, w, h))\n",
        "            color = (0, 255, 0)\n",
        "            title = f\"{label} (lost - reinit)\"\n",
        "            \n",
        "          x, y, w, h = [int(e) for e in current_bbox]\n",
        "\n",
        "          # Showing tracker prediction on video\n",
        "          cv2.putText(frame, title, (x, y-30), cv2.FONT_HERSHEY_SIMPLEX, 1, color, 1, cv2.LINE_AA)\n",
        "          cv2.rectangle(frame, (x, y), (x+w, y+h), color, 2)\n",
        "\n",
        "    out.write(frame)\n",
        "    frame_number += 1\n",
        "    previous_frame = frame.copy()\n",
        "  \n",
        "  cap.release()\n",
        "  out.release()"
      ],
      "metadata": {
        "id": "VUXXSYItfQaY"
      },
      "execution_count": null,
      "outputs": []
    },
    {
      "cell_type": "markdown",
      "source": [
        "Les résultats du tracker OpenCV sont bien plus satisfaisants que ceux de la méthode précédente du fait de sa capacité à mieux généraliser ses détections."
      ],
      "metadata": {
        "id": "l50fetsjgKj2"
      }
    },
    {
      "cell_type": "markdown",
      "source": [
        "#### Traker OpenCV avec update du modèle pour chaque vidéo\n",
        "\n",
        "Nous avons essayé de mettre à jour le modèle à la fin de chaque vidéo en l'entrainant sur les objets qui ont été détectés au cours de la vidéo. Pour ne pas effacer les anciens poids, nous avons choisi un learning rate très petit. Cet update du modèle va permettre de le renforcer avec de nouvelles données."
      ],
      "metadata": {
        "id": "5iqzvHP1hiWJ"
      }
    },
    {
      "cell_type": "code",
      "source": [
        "# choose a smaller learning rate to avoid washing off the old weights\n",
        "opt = SGD(learning_rate=0.00001, momentum=0.9)\n",
        "# compile the model\n",
        "model.compile(optimizer=opt, loss=tf.keras.losses.SparseCategoricalCrossentropy(from_logits=False), metrics=['accuracy'])\n",
        "tracking_dir = \"TRACKING-OpenCV/\"\n",
        "\n",
        "for index_video in range(3,nb_videos):\n",
        "  tracker = cv2.TrackerCSRT_create()\n",
        "  video_name = os.listdir(videos_dir)[index_video]\n",
        "  gt_name = video_name.split('.mp4')[0] + '_2_bboxes.txt'\n",
        "  video_path = videos_dir + video_name\n",
        "  gt_path = boxes_dir + gt_name\n",
        "  print(f\"Video : {video_path}, GT path : {gt_path}\")\n",
        "  frame_number = 1\n",
        "  predictions = {}\n",
        "  patches = [] # detected objects \n",
        "  cap = cv2.VideoCapture(video_path)\n",
        "  tracking = False\n",
        "  tracking_bboxes, label = get_video_bbox(gt_path)\n",
        "  out = cv2.VideoWriter(f\"{tracking_dir + video_name}\", cv2.VideoWriter_fourcc('M','J','P','G'), 25, (1920,1080)) # Writing the tracking result video in the specified tracking directory\n",
        "  while (cap.isOpened()):\n",
        "    ret, frame = cap.read()\n",
        "    if ret == False : \n",
        "        break\n",
        "\n",
        "    if tracking or frame_number in tracking_bboxes: \n",
        "        if not tracking :\n",
        "            assert(frame_number in tracking_bboxes)\n",
        "            current_bbox = tracking_bboxes[frame_number]\n",
        "            tracking = True\n",
        "            x, y, w, h = current_bbox\n",
        "            ok = tracker.init(frame, (x, y, w, h))\n",
        "\n",
        "            # Showing detected object on video\n",
        "            cv2.putText(frame, label, (x, y-30), cv2.FONT_HERSHEY_SIMPLEX, 1, (0, 255, 0), 1, cv2.LINE_AA)\n",
        "            cv2.rectangle(frame, (x, y), (x+w, y+h), (0, 255, 0), 2) \n",
        "        else:\n",
        "\n",
        "          # Getting the bounding box detected by the tracker\n",
        "          ok, current_bbox = tracker.update(frame)\n",
        "          color = (255, 0, 0)\n",
        "          title = label\n",
        "          if not ok and (frame_number in tracking_bboxes): # We reinitialize the tracker when it looses the object\n",
        "            current_bbox = tracking_bboxes[frame_number]\n",
        "            ok = tracker.init(frame, (x, y, w, h))\n",
        "            color = (0, 255, 0)\n",
        "            title = f\"{label} (lost - reinit)\"\n",
        "            \n",
        "          x, y, w, h = [int(e) for e in current_bbox]\n",
        "\n",
        "          # Showing tracker prediction on video\n",
        "          cv2.putText(frame, title, (x, y-30), cv2.FONT_HERSHEY_SIMPLEX, 1, color, 1, cv2.LINE_AA)\n",
        "          cv2.rectangle(frame, (x, y), (x+w, y+h), color, 2)\n",
        "\n",
        "          if ok: # if an object has been detected we feed it to the model\n",
        "            crop = frame[y:y + h, x:x + w] # crop\n",
        "            patches.append(cv2.resize(crop, (image_size, image_size))) # resize\n",
        "\n",
        "    label_index = class_indexes[label]\n",
        "    model.fit(preprocess(np.stack(patches, axis=0)), tf.convert_to_tensor([label_index]*len(patches)), epochs=10, verbose=1) # update the model by training on detected objects\n",
        "    out.write(frame)\n",
        "    frame_number += 1\n",
        "    previous_frame = frame.copy()\n",
        "  \n",
        "  cap.release()\n",
        "  out.release()\n",
        "\n",
        "model.save(\"incremental_learning_mobilenet.h5\") # save the updated model"
      ],
      "metadata": {
        "id": "P0JXgKjOhgCI"
      },
      "execution_count": null,
      "outputs": []
    },
    {
      "cell_type": "markdown",
      "source": [
        "### Méthode 3 : Détection de contours avec OpenCV Tracker\n",
        "Nous avons utilisé la détections de contours d'OpenCV en générant des bounding box sur chaque vidéo."
      ],
      "metadata": {
        "id": "x8a14xmLpjaB"
      }
    },
    {
      "cell_type": "markdown",
      "source": [
        "Set up et connexion aux données"
      ],
      "metadata": {
        "id": "PUF1xa4Nr7Qx"
      }
    },
    {
      "cell_type": "code",
      "source": [
        "import cv2\n",
        "import os\n",
        "import numpy as np\n",
        "import matplotlib.pyplot as plt\n",
        "from google.colab import drive\n",
        "drive.mount('/content/drive')\n",
        "\n",
        "\n",
        "PATH = \"/content/drive/MyDrive/ENSC/3A/[C] Applications de l'Intelligence Artificielle/Analyse Vidéo/\""
      ],
      "metadata": {
        "colab": {
          "base_uri": "https://localhost:8080/"
        },
        "id": "kzai-6R1r6p6",
        "outputId": "56f7c817-939e-4b0d-c181-734b72b648a8"
      },
      "execution_count": null,
      "outputs": [
        {
          "output_type": "stream",
          "name": "stdout",
          "text": [
            "Mounted at /content/drive\n"
          ]
        }
      ]
    },
    {
      "cell_type": "markdown",
      "source": [
        "On utilise la détection de contour de cv2 sur chaque frame"
      ],
      "metadata": {
        "id": "H7WwU23t5ExK"
      }
    },
    {
      "cell_type": "code",
      "source": [
        "def create_output(video_path):\n",
        "  capture = cv2.VideoCapture(os.path.join(PATH, video_path))\n",
        "  output_name = \"output_\" + video_path.split(\"/\")[1]\n",
        "  output_path = os.path.join(PATH + \"/outputs\", output_name) # PATH FOR THE OUTPUTS\n",
        "\n",
        "  frame_w = int(capture.get(cv2.CAP_PROP_FRAME_WIDTH))\n",
        "  frame_h = int(capture.get(cv2.CAP_PROP_FRAME_HEIGHT))\n",
        "  fourcc_format = cv2.VideoWriter_fourcc(*\"XVID\")\n",
        "  fps = 25\n",
        "  video = cv2.VideoWriter(output_path, fourcc_format, fps, (frame_w, frame_h))\n",
        "\n",
        "  i = 0\n",
        "  next_frame, frame = capture.read()\n",
        "  # On parcourt toute la vidéo, frame par frame\n",
        "  while(True):\n",
        "    next_frame, frame = capture.read()\n",
        "    i = i+1\n",
        "    if not next_frame:\n",
        "        print(f\"Fin de la vidéo {output_name} atteinte\")\n",
        "        print(f\"{i} frames traitées\")\n",
        "        break\n",
        "\n",
        "    h = 45\n",
        "    s = 50\n",
        "    v = 70\n",
        "\n",
        "    lower_bound = np.array([h,s,v])\n",
        "    upper_bound = np.array([255,255,255])\n",
        "\n",
        "    # HSV color\n",
        "    hsv = cv2.cvtColor(frame,cv2.COLOR_BGR2HSV)\n",
        "    img_frame = cv2.inRange(hsv, lower_bound, upper_bound)\n",
        "\n",
        "    # contours\n",
        "    contours, hierarchy = cv2.findContours(img_frame,cv2.RETR_TREE,cv2.CHAIN_APPROX_SIMPLE)\n",
        "    n = len(contours)\n",
        "    perimeter = [ ]\n",
        "\n",
        "    for i in range(0,n):\n",
        "        perimeter.append(cv2.arcLength(contours[i],True))\n",
        "    v = perimeter.index(max(perimeter))\n",
        "    x,y,w,h = cv2.boundingRect(contours[v])\n",
        "\n",
        "    output = frame.copy()\n",
        "    # Draw the countours\n",
        "    cv2.rectangle(output,(x,y),(x+w,y+h),(0,0,255),10)\n",
        "    video.write(output)\n",
        "\n",
        "  capture.release()    \n",
        "  video.release()"
      ],
      "metadata": {
        "id": "5ZyUp5Lgr1sr"
      },
      "execution_count": null,
      "outputs": []
    },
    {
      "cell_type": "code",
      "source": [
        "videos_path = [\"VIDEOS_720p/CanOfCocaColaPlace2Subject1.mp4\", \"VIDEOS_720p/BowlPlace1Subject1.mp4\", \"VIDEOS_720p/MilkBottlePlace1Subject1.mp4\", \"VIDEOS_720p/RicePlace1Subject1.mp4\", \"VIDEOS_720p/SugarPlace1Subject1.mp4\" ]\n",
        "\n",
        "for video in videos_path:\n",
        "  create_output(video)"
      ],
      "metadata": {
        "colab": {
          "base_uri": "https://localhost:8080/"
        },
        "id": "a5VWQ0bVhK_u",
        "outputId": "820aaef8-a395-4e78-b4ce-0e772c331219"
      },
      "execution_count": null,
      "outputs": [
        {
          "output_type": "stream",
          "name": "stdout",
          "text": [
            "Fin de la vidéo output_CanOfCocaColaPlace2Subject1.mp4 atteinte\n",
            "186 frames traitées\n",
            "Fin de la vidéo output_BowlPlace1Subject1.mp4 atteinte\n",
            "391 frames traitées\n",
            "Fin de la vidéo output_MilkBottlePlace1Subject1.mp4 atteinte\n",
            "30 frames traitées\n",
            "Fin de la vidéo output_RicePlace1Subject1.mp4 atteinte\n",
            "614 frames traitées\n",
            "Fin de la vidéo output_SugarPlace1Subject1.mp4 atteinte\n",
            "107 frames traitées\n"
          ]
        }
      ]
    },
    {
      "cell_type": "markdown",
      "source": [
        "Cette solution fonctionne plutôt bien mais a l'inconvénient de devoir set un hsv lower and upper bound qui correspond à la frame, ici il est set par défaut, ce qui ne fonctionne pas très bien selon les cas. On peut considérer que nous avons fait de l'overfitting ici."
      ],
      "metadata": {
        "id": "CH7qWPvJw4I4"
      }
    },
    {
      "cell_type": "markdown",
      "source": [
        "### Méthode 4 : Fine tuning\n",
        "Nous avons extraits les patchs de chaque vidéo pour obtenir de nouvelles données à entraîner sur un fine modèle, c'est à dire que l'on n'entraîne que la dernière couche."
      ],
      "metadata": {
        "id": "HgWcN2cavEhx"
      }
    },
    {
      "cell_type": "markdown",
      "source": [
        "From : https://dept-info.labri.fr/~mansenca/GITW_light/utils/extractPatches.py"
      ],
      "metadata": {
        "id": "8butePRyvOCw"
      }
    },
    {
      "cell_type": "code",
      "source": [
        "import os\n",
        "import sys\n",
        "import numpy as np\n",
        "import cv2\n",
        "\n",
        "def extract_patches(video_filename, bboxes_filename, output_dir):\n",
        "\n",
        "    cap = cv2.VideoCapture(video_filename)\n",
        "    if (not cap.isOpened()):\n",
        "        print(\"ERROR: unable to read video:\", video_filename)\n",
        "        sys.exit()\n",
        "\n",
        "\n",
        "    bboxes = {}\n",
        "    with open(bboxes_filename) as fp: \n",
        "        lines = fp.readlines() \n",
        "        for line in lines: \n",
        "            elts = line.split()\n",
        "            if len(elts) == 2:\n",
        "                assert(elts[1] == \"0\")\n",
        "            else:\n",
        "                assert(len(elts) > 2)\n",
        "                assert(elts[1] == \"1\") #only one bbox per frame\n",
        "                frame_number = (int)(elts[0])\n",
        "                x = (int)(elts[2])\n",
        "                y = (int)(elts[3])\n",
        "                w = (int)(elts[4])\n",
        "                h = (int)(elts[5])\n",
        "                bboxes[frame_number] = (x, y, w, h)\n",
        "\n",
        "    frame_number=1 #start from 1 in bboxes_filename\n",
        "\n",
        "    while(cap.isOpened()):\n",
        "        ret, frame = cap.read()\n",
        "\n",
        "        if ret == False:\n",
        "            break\n",
        "\n",
        "        frame_height = frame.shape[0]\n",
        "        frame_width = frame.shape[1]\n",
        "\n",
        "        disp = frame.copy()\n",
        "    \n",
        "        if frame_number in bboxes:\n",
        "            x, y, w, h = bboxes[frame_number]\n",
        "\n",
        "            if (x<0):\n",
        "                x=0\n",
        "            if (y<0):\n",
        "                y=0\n",
        "            if (x+w>frame_width):\n",
        "                w=frame_width-x\n",
        "            if (y+h>frame_height):\n",
        "                h=frame_height-y\n",
        "\n",
        "            cv2.rectangle(disp, (x, y), (x+w, y+h), (0, 0, 255), 2) \n",
        "        \n",
        "            rects = []\n",
        "        \n",
        "            if need_squares:\n",
        "                #first, try to extend rectangle to square\n",
        "                if w < h:\n",
        "                    w2 = h\n",
        "                    x2 = int(x+w/2-w2/2)\n",
        "                    y2 = y\n",
        "                    h2 = h\n",
        "                else:\n",
        "                    h2 = w\n",
        "                    y2 = int(y+h/2-h2/2)\n",
        "                    x2 = x\n",
        "                    w2 = w\n",
        "                \n",
        "                if not (x2>=0 and y2>=0 and x2+w2<=frame_width and y2+h2<=frame_height):\n",
        "                    #keep biggest possible square (centered on original bbox)\n",
        "                    xc = x+w/2\n",
        "                    yc = y+h/2\n",
        "                    xl = max(0, xc-w2/2)\n",
        "                    xr = min(xc+w2/2, frame_width)\n",
        "                    w2 = 2 * int(min(xc-xl, xr-xc))\n",
        "                    x2 = int(xc-w2/2)\n",
        "                    \n",
        "                    yu = max(0, yc-h2/2)\n",
        "                    yd = min(yc+h2/2, frame_height)\n",
        "                    h2 = 2 * int(min(yc-yu, yd-yc))\n",
        "                    y2 = int(yc-h2/2)\n",
        "\n",
        "                assert(x2>=0)\n",
        "                assert(y2>=0)\n",
        "                assert(x2+w2<=frame_width)\n",
        "                assert(y2+h2<=frame_height)\n",
        "                rects.append((x2, y2, w2, h2))\n",
        "                \n",
        "            for i in range(len(rects)):\n",
        "                x, y, w, h = rects[i]\n",
        "            \n",
        "                patch = frame[y:y+h, x:x+w]\n",
        "                resized = cv2.resize(patch, (patch_width, patch_height), interpolation = cv2.INTER_LINEAR) \n",
        "                \n",
        "                if \"Rice\" in video_filename:\n",
        "                  output_dir = output_dir + \"Rice/\"\n",
        "                elif \"Bowl\" in video_filename:\n",
        "                  output_dir = output_dir + \"Bowl/\"\n",
        "                elif \"CanOfCocaCola\" in video_filename:\n",
        "                  output_dir = output_dir + \"CanOfCocaCola/\"\n",
        "                elif \"Milk\" in video_filename:\n",
        "                  output_dir = output_dir + \"MilkBottle/\"\n",
        "                elif \"Sugar\" in video_filename:\n",
        "                  output_dir = output_dir + \"Sugar/\"\n",
        "\n",
        "                output_filename=os.path.join(output_dir, os.path.basename(bboxes_filename).replace(\".txt\", \"\")+\"_{}_{}.png\".format(frame_number, i))\n",
        "                #print(\"output_filename=\", output_filename)\n",
        "                saved_img = cv2.imwrite(output_filename, resized)\n",
        "                \n",
        "                cv2.rectangle(disp, (x, y), (x+w, y+h), (0, 255, 0), 2) \n",
        "    \n",
        "        #if cv2.waitKey(150) & 0xFF == ord('q'):\n",
        "        if cv2.waitKey(15) & 0xFF == ord('q'):\n",
        "            break\n",
        "        frame_number += 1\n",
        "        \n",
        "    cap.release()"
      ],
      "metadata": {
        "id": "dmRt7wvfvGlY"
      },
      "execution_count": null,
      "outputs": []
    },
    {
      "cell_type": "code",
      "source": [
        "output_dir = \"output_patches/\"\n",
        "need_squares = True\n",
        "patch_width = 227\n",
        "patch_height = 227\n",
        "\n",
        "\n",
        "video_path = \"VIDEOS/\"\n",
        "bboxes_path = \"GT/\"\n",
        "\n",
        "nb_videos = len(os.listdir(video_path))\n",
        "\n",
        "print(nb_videos)\n",
        "\n",
        "for index_video in range(nb_videos):\n",
        "  video_filename = os.listdir(video_path)[index_video]\n",
        "  print(video_filename + \" - \" + str(index_video + 1) + \"/\" + str(nb_videos))\n",
        "  bbox_name = video_filename.split('.mp4')[0] + '_2_bboxes.txt'\n",
        "  bboxes_filename = bboxes_path + bbox_name\n",
        "\n",
        "  extract_patches(video_path + video_filename, bboxes_filename, output_dir)\n"
      ],
      "metadata": {
        "colab": {
          "base_uri": "https://localhost:8080/"
        },
        "id": "xj-rLA4OvXqY",
        "outputId": "68bfa2d1-7531-46f5-f26d-5548cb884d3f"
      },
      "execution_count": null,
      "outputs": [
        {
          "output_type": "stream",
          "name": "stdout",
          "text": [
            "58\n",
            "SugarPlace5Subject3.mp4 - 1/58\n",
            "CanOfCocaColaPlace6Subject2.mp4 - 2/58\n",
            "CanOfCocaColaPlace3Subject4.mp4 - 3/58\n",
            "RicePlace3Subject1.mp4 - 4/58\n",
            "BowlPlace7Subject2.mp4 - 5/58\n",
            "CanOfCocaColaPlace6Subject1.mp4 - 6/58\n",
            "MilkBottlePlace7Subject1.mp4 - 7/58\n",
            "MilkBottlePlace7Subject2.mp4 - 8/58\n",
            "CanOfCocaColaPlace2Subject1.mp4 - 9/58\n",
            "CanOfCocaColaPlace7Subject1.mp4 - 10/58\n",
            "RicePlace6Subject2.mp4 - 11/58\n",
            "RicePlace7Subject3.mp4 - 12/58\n",
            "RicePlace6Subject4.mp4 - 13/58\n",
            "CanOfCocaColaPlace3Subject2.mp4 - 14/58\n",
            "MilkBottlePlace6Subject2.mp4 - 15/58\n",
            "CanOfCocaColaPlace6Subject4.mp4 - 16/58\n",
            "RicePlace2Subject2.mp4 - 17/58\n",
            "SugarPlace2Subject2.mp4 - 18/58\n",
            "CanOfCocaColaPlace2Subject4.mp4 - 19/58\n",
            "MilkBottlePlace4Subject4.mp4 - 20/58\n",
            "BowlPlace5Subject3.mp4 - 21/58\n",
            "RicePlace2Subject1.mp4 - 22/58\n",
            "RicePlace3Subject3.mp4 - 23/58\n",
            "BowlPlace5Subject1.mp4 - 24/58\n",
            "MilkBottlePlace7Subject3.mp4 - 25/58\n",
            "SugarPlace2Subject1.mp4 - 26/58\n",
            "RicePlace1Subject1.mp4 - 27/58\n",
            "BowlPlace6Subject1.mp4 - 28/58\n",
            "SugarPlace6Subject1.mp4 - 29/58\n",
            "RicePlace5Subject2.mp4 - 30/58\n",
            "MilkBottlePlace4Subject1.mp4 - 31/58\n",
            "BowlPlace4Subject2.mp4 - 32/58\n",
            "CanOfCocaColaPlace7Subject3.mp4 - 33/58\n",
            "BowlPlace6Subject4.mp4 - 34/58\n",
            "BowlPlace1Subject2.mp4 - 35/58\n",
            "SugarPlace5Subject2.mp4 - 36/58\n",
            "BowlPlace1Subject4.mp4 - 37/58\n",
            "CanOfCocaColaPlace5Subject2.mp4 - 38/58\n",
            "RicePlace4Subject2.mp4 - 39/58\n",
            "MilkBottlePlace5Subject2.mp4 - 40/58\n",
            "SugarPlace3Subject5.mp4 - 41/58\n",
            "SugarPlace6Subject4.mp4 - 42/58\n",
            "RicePlace4Subject1.mp4 - 43/58\n",
            "MilkBottlePlace1Subject4.mp4 - 44/58\n",
            "CanOfCocaColaPlace5Subject1.mp4 - 45/58\n",
            "MilkBottlePlace2Subject2.mp4 - 46/58\n",
            "MilkBottlePlace2Subject5.mp4 - 47/58\n",
            "RicePlace7Subject1.mp4 - 48/58\n",
            "BowlPlace1Subject1.mp4 - 49/58\n",
            "SugarPlace1Subject1.mp4 - 50/58\n",
            "MilkBottlePlace1Subject1.mp4 - 51/58\n",
            "SugarPlace1Subject2.mp4 - 52/58\n",
            "RicePlace5Subject1.mp4 - 53/58\n",
            "BowlPlace4Subject4.mp4 - 54/58\n",
            "SugarPlace5Subject1.mp4 - 55/58\n",
            "BowlPlace4Subject1.mp4 - 56/58\n",
            "SugarPlace3Subject1.mp4 - 57/58\n",
            "RicePlace1Subject2.mp4 - 58/58\n"
          ]
        }
      ]
    },
    {
      "cell_type": "markdown",
      "source": [
        "Setup"
      ],
      "metadata": {
        "id": "NasIJa7X6O-m"
      }
    },
    {
      "cell_type": "code",
      "source": [
        "%matplotlib inline\n",
        "import matplotlib.pyplot as plt\n",
        "import PIL\n",
        "import tensorflow as tf\n",
        "import numpy as np\n",
        "import os\n",
        "\n",
        "from tensorflow import keras\n",
        "from tensorflow.keras.models import Model, Sequential\n",
        "from tensorflow.keras.layers import Dense, Flatten, Dropout\n",
        "from tensorflow.keras.applications.mobilenet_v2 import preprocess_input, decode_predictions\n",
        "from tensorflow.keras.preprocessing.image import ImageDataGenerator\n",
        "from tensorflow.keras.optimizers import Adam, RMSprop"
      ],
      "metadata": {
        "id": "uhRLtddR0ldT"
      },
      "execution_count": null,
      "outputs": []
    },
    {
      "cell_type": "markdown",
      "source": [
        "Fonctions utilitaires, source : [util.py](https://github.com/Kidel/Deep-Learning-CNN-for-Image-Recognition/blob/master/util.py)"
      ],
      "metadata": {
        "id": "-vgh5hxtwJms"
      }
    },
    {
      "cell_type": "code",
      "source": [
        "def path_join(dirname, filenames):\n",
        "    return [os.path.join(dirname, filename) for filename in filenames]"
      ],
      "metadata": {
        "id": "5lGbol7c6TL_"
      },
      "execution_count": null,
      "outputs": []
    },
    {
      "cell_type": "code",
      "source": [
        "def plot_images(images, cls_true, cls_pred=None, smooth=True):\n",
        "\n",
        "    assert len(images) == len(cls_true)\n",
        "\n",
        "    # Create figure with sub-plots.\n",
        "    fig, axes = plt.subplots(3, 3)\n",
        "\n",
        "    # Adjust vertical spacing.\n",
        "    if cls_pred is None:\n",
        "        hspace = 0.3\n",
        "    else:\n",
        "        hspace = 0.6\n",
        "    fig.subplots_adjust(hspace=hspace, wspace=0.3)\n",
        "\n",
        "    # Interpolation type.\n",
        "    if smooth:\n",
        "        interpolation = 'spline16'\n",
        "    else:\n",
        "        interpolation = 'nearest'\n",
        "\n",
        "    for i, ax in enumerate(axes.flat):\n",
        "        # There may be less than 9 images, ensure it doesn't crash.\n",
        "        if i < len(images):\n",
        "            # Plot image.\n",
        "            ax.imshow(images[i],\n",
        "                      interpolation=interpolation)\n",
        "\n",
        "            # Name of the true class.\n",
        "            cls_true_name = class_names[cls_true[i]]\n",
        "\n",
        "            # Show true and predicted classes.\n",
        "            if cls_pred is None:\n",
        "                xlabel = \"True: {0}\".format(cls_true_name)\n",
        "            else:\n",
        "                # Name of the predicted class.\n",
        "                cls_pred_name = class_names[cls_pred[i]]\n",
        "\n",
        "                xlabel = \"True: {0}\\nPred: {1}\".format(cls_true_name, cls_pred_name)\n",
        "\n",
        "            # Show the classes as the label on the x-axis.\n",
        "            ax.set_xlabel(xlabel)\n",
        "        \n",
        "        # Remove ticks from the plot.\n",
        "        ax.set_xticks([])\n",
        "        ax.set_yticks([])\n",
        "    \n",
        "    # Ensure the plot is shown correctly with multiple plots\n",
        "    # in a single Notebook cell.\n",
        "    plt.show()"
      ],
      "metadata": {
        "id": "UCOLarnR6UYu"
      },
      "execution_count": null,
      "outputs": []
    },
    {
      "cell_type": "code",
      "source": [
        "# Import a function from sklearn to calculate the confusion-matrix.\n",
        "from sklearn.metrics import confusion_matrix\n",
        "\n",
        "def print_confusion_matrix(cls_pred):\n",
        "    # cls_pred is an array of the predicted class-number for\n",
        "    # all images in the test-set.\n",
        "\n",
        "    # Get the confusion matrix using sklearn.\n",
        "    cm = confusion_matrix(y_true=cls_test,  # True class for test-set.\n",
        "                          y_pred=cls_pred)  # Predicted class.\n",
        "\n",
        "    print(\"Confusion matrix:\")\n",
        "    \n",
        "    # Print the confusion matrix as text.\n",
        "    print(cm)\n",
        "    \n",
        "    # Print the class-names for easy reference.\n",
        "    for i, class_name in enumerate(class_names):\n",
        "        print(\"({0}) {1}\".format(i, class_name))"
      ],
      "metadata": {
        "id": "4vsDRm7H6VRt"
      },
      "execution_count": null,
      "outputs": []
    },
    {
      "cell_type": "code",
      "source": [
        "def load_images(image_paths):\n",
        "    # Load the images from disk.\n",
        "    images = [plt.imread(path) for path in image_paths]\n",
        "\n",
        "    # Convert to a numpy array and return it.\n",
        "    return np.asarray(images)"
      ],
      "metadata": {
        "id": "elHvbaQr6YlF"
      },
      "execution_count": null,
      "outputs": []
    },
    {
      "cell_type": "code",
      "source": [
        "def plot_training_history(history):\n",
        "    # Get the classification accuracy and loss-value\n",
        "    # for the training-set.\n",
        "    acc = history.history['categorical_accuracy']\n",
        "    loss = history.history['loss']\n",
        "\n",
        "    # Get it for the validation-set (we only use the test-set).\n",
        "    val_acc = history.history['val_categorical_accuracy']\n",
        "    val_loss = history.history['val_loss']\n",
        "\n",
        "    # Plot the accuracy and loss-values for the training-set.\n",
        "    plt.plot(acc, linestyle='-', color='b', label='Training Acc.')\n",
        "    plt.plot(loss, 'o', color='b', label='Training Loss')\n",
        "    \n",
        "    # Plot it for the test-set.\n",
        "    plt.plot(val_acc, linestyle='--', color='r', label='Test Acc.')\n",
        "    plt.plot(val_loss, 'o', color='r', label='Test Loss')\n",
        "\n",
        "    # Plot title and legend.\n",
        "    plt.title('Training and Test Accuracy')\n",
        "    plt.legend()\n",
        "\n",
        "    # Ensure the plot shows correctly.\n",
        "    plt.show()"
      ],
      "metadata": {
        "id": "s3Wy6R0j6ZXF"
      },
      "execution_count": null,
      "outputs": []
    },
    {
      "cell_type": "markdown",
      "source": [
        "Setup data set"
      ],
      "metadata": {
        "id": "RXJjiqkIw6Py"
      }
    },
    {
      "cell_type": "code",
      "source": [
        "train_dir = \"output_patches\"\n",
        "test_dir = \"DB/test\"\n",
        "\n",
        "train_dir_old = \"DB/train/\""
      ],
      "metadata": {
        "id": "g6Ty5FrC6aNF"
      },
      "execution_count": null,
      "outputs": []
    },
    {
      "cell_type": "code",
      "source": [
        "model = load_model(\"fine-tuned-trained-mobilenet\")"
      ],
      "metadata": {
        "id": "3THCBQQc6fM9"
      },
      "execution_count": null,
      "outputs": []
    },
    {
      "cell_type": "code",
      "source": [
        "input_shape = model.layers[0].output_shape[0][1:3]\n",
        "input_shape"
      ],
      "metadata": {
        "colab": {
          "base_uri": "https://localhost:8080/"
        },
        "id": "3i_DyPxw6gpu",
        "outputId": "8dd9de91-c5d2-4af6-c9a4-72be83c59f25"
      },
      "execution_count": null,
      "outputs": [
        {
          "output_type": "execute_result",
          "data": {
            "text/plain": [
              "(227, 227)"
            ]
          },
          "metadata": {},
          "execution_count": 20
        }
      ]
    },
    {
      "cell_type": "markdown",
      "source": [
        "Data Augmentation"
      ],
      "metadata": {
        "id": "QFHX55Hcxbsc"
      }
    },
    {
      "cell_type": "code",
      "source": [
        "datagen_train = ImageDataGenerator(\n",
        "      rescale=1./255,\n",
        "      rotation_range=180,\n",
        "      width_shift_range=0.1,\n",
        "      height_shift_range=0.1,\n",
        "      shear_range=0.1,\n",
        "      zoom_range=[0.9, 1.5],\n",
        "      horizontal_flip=True,\n",
        "      vertical_flip=True,\n",
        "      fill_mode='nearest')"
      ],
      "metadata": {
        "id": "etcieh896hgt"
      },
      "execution_count": null,
      "outputs": []
    },
    {
      "cell_type": "code",
      "source": [
        "datagen_test = ImageDataGenerator(rescale=1./255)"
      ],
      "metadata": {
        "id": "IO6tnTCF6ifd"
      },
      "execution_count": null,
      "outputs": []
    },
    {
      "cell_type": "code",
      "source": [
        "batch_size = 8"
      ],
      "metadata": {
        "id": "GZgncErF6jIN"
      },
      "execution_count": null,
      "outputs": []
    },
    {
      "cell_type": "code",
      "source": [
        "if True:\n",
        "    save_to_dir = None\n",
        "else:\n",
        "    save_to_dir= PATh + 'augmented_images/'"
      ],
      "metadata": {
        "id": "Vp7hmRuo6kYV"
      },
      "execution_count": null,
      "outputs": []
    },
    {
      "cell_type": "code",
      "source": [
        "generator_train = datagen_train.flow_from_directory(directory=train_dir,\n",
        "                                                    target_size=input_shape,\n",
        "                                                    batch_size=batch_size,\n",
        "                                                    shuffle=True,\n",
        "                                                    save_to_dir=save_to_dir)\n",
        "\n",
        "# old dataset\n",
        "generator_train_old = datagen_train.flow_from_directory(directory=train_dir_old,\n",
        "                                                    target_size=input_shape,\n",
        "                                                    batch_size=batch_size,\n",
        "                                                    shuffle=True,\n",
        "                                                    save_to_dir=save_to_dir)"
      ],
      "metadata": {
        "colab": {
          "base_uri": "https://localhost:8080/"
        },
        "id": "75PQ-T256lKl",
        "outputId": "b579a69f-0230-4833-c2d0-a269e5fed274"
      },
      "execution_count": null,
      "outputs": [
        {
          "output_type": "stream",
          "name": "stdout",
          "text": [
            "Found 58 images belonging to 5 classes.\n",
            "Found 4736 images belonging to 5 classes.\n"
          ]
        }
      ]
    },
    {
      "cell_type": "code",
      "source": [
        "generator_test = datagen_test.flow_from_directory(directory=test_dir,\n",
        "                                                  target_size=input_shape,\n",
        "                                                  batch_size=batch_size,\n",
        "                                                  shuffle=False)"
      ],
      "metadata": {
        "colab": {
          "base_uri": "https://localhost:8080/"
        },
        "id": "6dFffL686s31",
        "outputId": "d58856f0-96e9-42c1-8e72-4ad8882badfe"
      },
      "execution_count": null,
      "outputs": [
        {
          "output_type": "stream",
          "name": "stdout",
          "text": [
            "Found 3568 images belonging to 5 classes.\n"
          ]
        }
      ]
    },
    {
      "cell_type": "code",
      "source": [
        "steps_test = generator_test.n // batch_size\n",
        "steps_test"
      ],
      "metadata": {
        "colab": {
          "base_uri": "https://localhost:8080/"
        },
        "id": "aExIZsJn7mGt",
        "outputId": "f356d5ce-b57c-484c-862b-60c8b2983bd6"
      },
      "execution_count": null,
      "outputs": [
        {
          "output_type": "execute_result",
          "data": {
            "text/plain": [
              "446"
            ]
          },
          "metadata": {},
          "execution_count": 29
        }
      ]
    },
    {
      "cell_type": "code",
      "source": [
        "image_paths_train = path_join(train_dir, generator_train.filenames)\n",
        "image_paths_test = path_join(test_dir, generator_test.filenames)"
      ],
      "metadata": {
        "id": "k3Dhv-yL6v91"
      },
      "execution_count": null,
      "outputs": []
    },
    {
      "cell_type": "code",
      "source": [
        "cls_train = generator_train.classes\n",
        "cls_test = generator_test.classes"
      ],
      "metadata": {
        "id": "5T9-1w4j6yZl"
      },
      "execution_count": null,
      "outputs": []
    },
    {
      "cell_type": "code",
      "source": [
        "class_names = list(generator_train.class_indices.keys())\n",
        "class_names"
      ],
      "metadata": {
        "colab": {
          "base_uri": "https://localhost:8080/"
        },
        "id": "PaeIXJ5H6y-c",
        "outputId": "cb83cb02-0702-438d-a79c-4b5bc8b6b6dd"
      },
      "execution_count": null,
      "outputs": [
        {
          "output_type": "execute_result",
          "data": {
            "text/plain": [
              "['Bowl', 'CanOfCocaCola', 'MilkBottle', 'Rice', 'Sugar']"
            ]
          },
          "metadata": {},
          "execution_count": 32
        }
      ]
    },
    {
      "cell_type": "code",
      "source": [
        "num_classes = generator_train.num_classes\n",
        "num_classes"
      ],
      "metadata": {
        "colab": {
          "base_uri": "https://localhost:8080/"
        },
        "id": "F2T3QPeg6zql",
        "outputId": "0d050d2e-6b5d-4775-d674-14d5898230f6"
      },
      "execution_count": null,
      "outputs": [
        {
          "output_type": "execute_result",
          "data": {
            "text/plain": [
              "5"
            ]
          },
          "metadata": {},
          "execution_count": 33
        }
      ]
    },
    {
      "cell_type": "code",
      "source": [
        "# Load the first images from the train-set.\n",
        "images = load_images(image_paths=image_paths_train[0:9])\n",
        "\n",
        "# Get the true classes for those images.\n",
        "cls_true = cls_train[0:9]\n",
        "\n",
        "# Plot the images and labels using our helper-function above.\n",
        "plot_images(images=images, cls_true=cls_true, smooth=True)"
      ],
      "metadata": {
        "colab": {
          "base_uri": "https://localhost:8080/",
          "height": 262
        },
        "id": "Nyff8jW-60XU",
        "outputId": "180ae8d0-8f18-4c12-a9df-433844b9f38c"
      },
      "execution_count": null,
      "outputs": [
        {
          "output_type": "display_data",
          "data": {
            "image/png": "[encoded data removed]",
            "text/plain": [
              "<Figure size 432x288 with 9 Axes>"
            ]
          },
          "metadata": {}
        }
      ]
    },
    {
      "cell_type": "markdown",
      "source": [
        "Le modèle"
      ],
      "metadata": {
        "id": "3eNjstb4dfbx"
      }
    },
    {
      "cell_type": "code",
      "source": [
        "from sklearn.utils.class_weight import compute_class_weight"
      ],
      "metadata": {
        "id": "Fh5db5_161XE"
      },
      "execution_count": null,
      "outputs": []
    },
    {
      "cell_type": "code",
      "source": [
        "class_weight = compute_class_weight(class_weight='balanced',\n",
        "                                    classes=np.unique(cls_train),\n",
        "                                    y=cls_train)\n",
        "\n",
        "class_weight = {i : class_weight[i] for i in range(5)}"
      ],
      "metadata": {
        "id": "ymeXGcFk62Hf"
      },
      "execution_count": null,
      "outputs": []
    },
    {
      "cell_type": "code",
      "source": [
        "model.summary()"
      ],
      "metadata": {
        "colab": {
          "base_uri": "https://localhost:8080/"
        },
        "id": "QCR0fjiX66x8",
        "outputId": "22d37d2c-0061-4bba-89ca-604475993150"
      },
      "execution_count": null,
      "outputs": [
        {
          "output_type": "stream",
          "name": "stdout",
          "text": [
            "Model: \"model\"\n",
            "_________________________________________________________________\n",
            " Layer (type)                Output Shape              Param #   \n",
            "=================================================================\n",
            " input_1 (InputLayer)        [(None, 227, 227, 3)]     0         \n",
            "                                                                 \n",
            " tf.math.truediv (TFOpLambda  (None, 227, 227, 3)      0         \n",
            " )                                                               \n",
            "                                                                 \n",
            " tf.math.subtract (TFOpLambd  (None, 227, 227, 3)      0         \n",
            " a)                                                              \n",
            "                                                                 \n",
            " functional_1 (Functional)   (None, 5)                 28922053  \n",
            "                                                                 \n",
            " flatten (Flatten)           (None, 5)                 0         \n",
            "                                                                 \n",
            " dense (Dense)               (None, 512)               3072      \n",
            "                                                                 \n",
            " dense_1 (Dense)             (None, 5)                 2565      \n",
            "                                                                 \n",
            "=================================================================\n",
            "Total params: 28,927,690\n",
            "Trainable params: 5,637\n",
            "Non-trainable params: 28,922,053\n",
            "_________________________________________________________________\n"
          ]
        }
      ]
    },
    {
      "cell_type": "code",
      "source": [
        "transfer_layer = model.get_layer('dense_1')"
      ],
      "metadata": {
        "id": "3htrwIJW67rz"
      },
      "execution_count": null,
      "outputs": []
    },
    {
      "cell_type": "code",
      "source": [
        "transfer_layer.output"
      ],
      "metadata": {
        "colab": {
          "base_uri": "https://localhost:8080/"
        },
        "id": "3q-7sFO368Vk",
        "outputId": "40b80e07-178b-4fa5-c1f3-74cca0693b2f"
      },
      "execution_count": null,
      "outputs": [
        {
          "output_type": "execute_result",
          "data": {
            "text/plain": [
              "<KerasTensor: shape=(None, 5) dtype=float32 (created by layer 'dense_1')>"
            ]
          },
          "metadata": {},
          "execution_count": 67
        }
      ]
    },
    {
      "cell_type": "code",
      "source": [
        "old_model = Model(inputs=model.input,\n",
        "                   outputs=transfer_layer.output)"
      ],
      "metadata": {
        "id": "cRhe5LFz68yE"
      },
      "execution_count": null,
      "outputs": []
    },
    {
      "cell_type": "code",
      "source": [
        "# Start a new Keras Sequential model.\n",
        "new_model = Sequential()\n",
        "\n",
        "# Add the convolutional part of the mobile net model from above.\n",
        "new_model.add(conv_model)\n",
        "\n",
        "# Flatten the output of the mobile net model because it is from a\n",
        "# convolutional layer.\n",
        "new_model.add(Flatten())\n",
        "\n",
        "# Add a dense (aka. fully-connected) layer.\n",
        "# This is for combining features that the mobile net model has\n",
        "# recognized in the image.\n",
        "new_model.add(Dense(512, activation='relu'))\n",
        "\n",
        "# Add a dropout-layer which may prevent overfitting and\n",
        "# improve generalization ability to unseen data e.g. the test-set.\n",
        "new_model.add(Dropout(0.5))\n",
        "\n",
        "# Add the final layer for the actual classification.\n",
        "new_model.add(Dense(num_classes, activation='softmax'))"
      ],
      "metadata": {
        "id": "uDG6Phs769Qt"
      },
      "execution_count": null,
      "outputs": []
    },
    {
      "cell_type": "code",
      "source": [
        "loss = 'categorical_crossentropy'\n",
        "metrics = ['categorical_accuracy']\n",
        "\n",
        "def print_layer_trainable():\n",
        "    for layer in old_model.layers:\n",
        "        print(\"{0}:\\t{1}\".format(layer.trainable, layer.name))"
      ],
      "metadata": {
        "id": "luovy6Bk6-G8"
      },
      "execution_count": null,
      "outputs": []
    },
    {
      "cell_type": "markdown",
      "source": [
        "On ne train que sur la dernière couche"
      ],
      "metadata": {
        "id": "gy9OLuyYdkpX"
      }
    },
    {
      "cell_type": "code",
      "source": [
        "old_model.trainable = True\n",
        "\n",
        "for layer in old_model.layers:\n",
        "    # Boolean whether this layer is trainable.\n",
        "    trainable = ('dense_1' in layer.name)\n",
        "    \n",
        "    # Set the layer's bool.\n",
        "    layer.trainable = trainable\n",
        "\n",
        "print_layer_trainable()"
      ],
      "metadata": {
        "colab": {
          "base_uri": "https://localhost:8080/"
        },
        "id": "D2c5wv6V6-kU",
        "outputId": "fda886d5-3e61-43a5-ea2d-9b63ee683883"
      },
      "execution_count": null,
      "outputs": [
        {
          "output_type": "stream",
          "name": "stdout",
          "text": [
            "False:\tinput_1\n",
            "False:\ttf.math.truediv\n",
            "False:\ttf.math.subtract\n",
            "False:\tfunctional_1\n",
            "False:\tflatten\n",
            "False:\tdense\n",
            "True:\tdense_1\n"
          ]
        }
      ]
    },
    {
      "cell_type": "code",
      "source": [
        "optimizer_fine = Adam(learning_rate=0.00001)\n",
        "new_model.compile(optimizer=optimizer_fine, loss=loss, metrics=metrics)\n",
        "epochs = 20\n",
        "new_model.summary()"
      ],
      "metadata": {
        "colab": {
          "base_uri": "https://localhost:8080/"
        },
        "id": "zwwIzV8g7EV1",
        "outputId": "82f7d870-d2c6-4a44-c8f9-83a6c2a9d7af"
      },
      "execution_count": null,
      "outputs": [
        {
          "output_type": "stream",
          "name": "stdout",
          "text": [
            "Model: \"sequential_4\"\n",
            "_________________________________________________________________\n",
            " Layer (type)                Output Shape              Param #   \n",
            "=================================================================\n",
            " model (Functional)          (None, 512)               28925125  \n",
            "                                                                 \n",
            " flatten_2 (Flatten)         (None, 512)               0         \n",
            "                                                                 \n",
            " dense_6 (Dense)             (None, 512)               262656    \n",
            "                                                                 \n",
            " dropout_3 (Dropout)         (None, 512)               0         \n",
            "                                                                 \n",
            " dense_7 (Dense)             (None, 5)                 2565      \n",
            "                                                                 \n",
            "=================================================================\n",
            "Total params: 29,190,346\n",
            "Trainable params: 265,221\n",
            "Non-trainable params: 28,925,125\n",
            "_________________________________________________________________\n"
          ]
        }
      ]
    },
    {
      "cell_type": "code",
      "source": [
        "history = new_model.fit(x=generator_train,\n",
        "                        epochs=epochs, validation_data=generator_test, validation_batch_size=32, validation_steps=1)"
      ],
      "metadata": {
        "colab": {
          "base_uri": "https://localhost:8080/"
        },
        "id": "CO5EJT0_7HKs",
        "outputId": "6ee6037c-d14c-449b-aae9-72842f0af3a7"
      },
      "execution_count": null,
      "outputs": [
        {
          "output_type": "stream",
          "name": "stdout",
          "text": [
            "Epoch 1/20\n",
            "8/8 [==============================] - ETA: 0s - loss: 1.6046 - categorical_accuracy: 0.2586"
          ]
        }
      ]
    },
    {
      "cell_type": "code",
      "source": [
        "plot_training_history(history)"
      ],
      "metadata": {
        "colab": {
          "base_uri": "https://localhost:8080/",
          "height": 300
        },
        "id": "9TgFkBtf7IEt",
        "outputId": "3d8b674a-670a-4952-81a8-f21064b1a709"
      },
      "execution_count": null,
      "outputs": [
        {
          "output_type": "error",
          "ename": "KeyError",
          "evalue": "ignored",
          "traceback": [
            "\u001b[0;31m---------------------------------------------------------------------------\u001b[0m",
            "\u001b[0;31mKeyError\u001b[0m                                  Traceback (most recent call last)",
            "\u001b[0;32m<ipython-input-76-2469e8e42f69>\u001b[0m in \u001b[0;36m<module>\u001b[0;34m()\u001b[0m\n\u001b[0;32m----> 1\u001b[0;31m \u001b[0mplot_training_history\u001b[0m\u001b[0;34m(\u001b[0m\u001b[0mhistory\u001b[0m\u001b[0;34m)\u001b[0m\u001b[0;34m\u001b[0m\u001b[0;34m\u001b[0m\u001b[0m\n\u001b[0m",
            "\u001b[0;32m<ipython-input-17-92574289b0b0>\u001b[0m in \u001b[0;36mplot_training_history\u001b[0;34m(history)\u001b[0m\n\u001b[1;32m      6\u001b[0m \u001b[0;34m\u001b[0m\u001b[0m\n\u001b[1;32m      7\u001b[0m     \u001b[0;31m# Get it for the validation-set (we only use the test-set).\u001b[0m\u001b[0;34m\u001b[0m\u001b[0;34m\u001b[0m\u001b[0;34m\u001b[0m\u001b[0m\n\u001b[0;32m----> 8\u001b[0;31m     \u001b[0mval_acc\u001b[0m \u001b[0;34m=\u001b[0m \u001b[0mhistory\u001b[0m\u001b[0;34m.\u001b[0m\u001b[0mhistory\u001b[0m\u001b[0;34m[\u001b[0m\u001b[0;34m'val_categorical_accuracy'\u001b[0m\u001b[0;34m]\u001b[0m\u001b[0;34m\u001b[0m\u001b[0;34m\u001b[0m\u001b[0m\n\u001b[0m\u001b[1;32m      9\u001b[0m     \u001b[0mval_loss\u001b[0m \u001b[0;34m=\u001b[0m \u001b[0mhistory\u001b[0m\u001b[0;34m.\u001b[0m\u001b[0mhistory\u001b[0m\u001b[0;34m[\u001b[0m\u001b[0;34m'val_loss'\u001b[0m\u001b[0;34m]\u001b[0m\u001b[0;34m\u001b[0m\u001b[0;34m\u001b[0m\u001b[0m\n\u001b[1;32m     10\u001b[0m \u001b[0;34m\u001b[0m\u001b[0m\n",
            "\u001b[0;31mKeyError\u001b[0m: 'val_categorical_accuracy'"
          ]
        }
      ]
    },
    {
      "cell_type": "code",
      "source": [
        "history.history"
      ],
      "metadata": {
        "colab": {
          "base_uri": "https://localhost:8080/"
        },
        "id": "5iZQT0F5btqP",
        "outputId": "f903fdd8-0eb9-4a72-bb5b-16a920c2c30f"
      },
      "execution_count": null,
      "outputs": [
        {
          "output_type": "execute_result",
          "data": {
            "text/plain": [
              "{'categorical_accuracy': [0.1551724076271057,\n",
              "  0.2586206793785095,\n",
              "  0.17241379618644714,\n",
              "  0.2068965584039688,\n",
              "  0.18965516984462738,\n",
              "  0.27586206793785095,\n",
              "  0.24137930572032928,\n",
              "  0.24137930572032928,\n",
              "  0.18965516984462738,\n",
              "  0.17241379618644714,\n",
              "  0.17241379618644714,\n",
              "  0.24137930572032928,\n",
              "  0.1551724076271057,\n",
              "  0.22413793206214905,\n",
              "  0.27586206793785095,\n",
              "  0.2586206793785095,\n",
              "  0.1551724076271057,\n",
              "  0.24137930572032928,\n",
              "  0.24137930572032928,\n",
              "  0.1551724076271057],\n",
              " 'loss': [1.6343318223953247,\n",
              "  1.611449122428894,\n",
              "  1.6201211214065552,\n",
              "  1.6048728227615356,\n",
              "  1.6213712692260742,\n",
              "  1.5975760221481323,\n",
              "  1.6073274612426758,\n",
              "  1.6113104820251465,\n",
              "  1.6272141933441162,\n",
              "  1.615600824356079,\n",
              "  1.625011920928955,\n",
              "  1.6164846420288086,\n",
              "  1.6351449489593506,\n",
              "  1.6154706478118896,\n",
              "  1.612138032913208,\n",
              "  1.6183745861053467,\n",
              "  1.6361137628555298,\n",
              "  1.609881043434143,\n",
              "  1.6239005327224731,\n",
              "  1.620830774307251]}"
            ]
          },
          "metadata": {},
          "execution_count": 77
        }
      ]
    },
    {
      "cell_type": "code",
      "source": [
        "result = new_model.evaluate(generator_test, steps=steps_test)"
      ],
      "metadata": {
        "colab": {
          "base_uri": "https://localhost:8080/"
        },
        "id": "_neYF7fS7Iv3",
        "outputId": "c0c59b0b-4e1c-4da5-b4da-138656c3e975"
      },
      "execution_count": null,
      "outputs": [
        {
          "output_type": "stream",
          "name": "stdout",
          "text": [
            "446/446 [==============================] - 27s 61ms/step - loss: 1.7819 - categorical_accuracy: 0.2015\n"
          ]
        }
      ]
    },
    {
      "cell_type": "code",
      "source": [
        "print(\"Test-set classification accuracy: {0:.2%}\".format(result[1]))"
      ],
      "metadata": {
        "colab": {
          "base_uri": "https://localhost:8080/"
        },
        "id": "gfl3YIxF7Ja9",
        "outputId": "652d8ddd-467d-4595-b4a2-2309897504b2"
      },
      "execution_count": null,
      "outputs": [
        {
          "output_type": "stream",
          "name": "stdout",
          "text": [
            "Test-set classification accuracy: 20.15%\n"
          ]
        }
      ]
    }
  ]
}