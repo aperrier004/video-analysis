{
  "nbformat": 4,
  "nbformat_minor": 0,
  "metadata": {
    "colab": {
      "name": "Video_Analysis_PERRIER.ipynb",
      "provenance": [],
      "collapsed_sections": [],
      "authorship_tag": "ABX9TyMhQsUlXiUzxAkXaaOdH88H",
      "include_colab_link": true
    },
    "kernelspec": {
      "name": "python3",
      "display_name": "Python 3"
    },
    "language_info": {
      "name": "python"
    },
    "accelerator": "GPU"
  },
  "cells": [
    {
      "cell_type": "markdown",
      "metadata": {
        "id": "view-in-github",
        "colab_type": "text"
      },
      "source": [
        "<a href=\"https://colab.research.google.com/github/aperrier004/video-analysis/blob/main/Video_Analysis_PERRIER.ipynb\" target=\"_parent\"><img src=\"https://colab.research.google.com/assets/colab-badge.svg\" alt=\"Open In Colab\"/></a>"
      ]
    },
    {
      "cell_type": "markdown",
      "source": [
        "Author : Alban PERRIER - ENSC (Bordeaux INP) 2021"
      ],
      "metadata": {
        "id": "ehkH1x1l6iTA"
      }
    },
    {
      "cell_type": "markdown",
      "source": [
        "Video Analysis Project - Boris MANSENCAL"
      ],
      "metadata": {
        "id": "N5T7-mDD6mhe"
      }
    },
    {
      "cell_type": "markdown",
      "source": [
        "# Setup"
      ],
      "metadata": {
        "id": "z3WQ_Bajoit2"
      }
    },
    {
      "cell_type": "markdown",
      "source": [
        "Drive"
      ],
      "metadata": {
        "id": "LUlcsBk-hM1a"
      }
    },
    {
      "cell_type": "code",
      "execution_count": null,
      "metadata": {
        "colab": {
          "base_uri": "https://localhost:8080/"
        },
        "id": "kE_l6dLWfmTh",
        "outputId": "a540e820-5188-4aec-efd5-c56add996aee"
      },
      "outputs": [
        {
          "output_type": "stream",
          "name": "stdout",
          "text": [
            "Mounted at /content/drive\n"
          ]
        }
      ],
      "source": [
        "from google.colab import drive\n",
        "drive.mount('/content/drive')"
      ]
    },
    {
      "cell_type": "markdown",
      "source": [
        "Installation modules"
      ],
      "metadata": {
        "id": "rlvT-sVMleGK"
      }
    },
    {
      "cell_type": "code",
      "source": [
        "#!pip install tensorflow"
      ],
      "metadata": {
        "id": "8OCylHdylbiz"
      },
      "execution_count": null,
      "outputs": []
    },
    {
      "cell_type": "markdown",
      "source": [
        "# Data Generation and Processing"
      ],
      "metadata": {
        "id": "qO3Gw2lPhK5c"
      }
    },
    {
      "cell_type": "code",
      "source": [
        "import os\n",
        "base_dir = \"/content/drive/MyDrive/ENSC/3A/[C] Applications de l'Intelligence Artificielle/Analyse Vidéo/DB\"\n",
        "train_dir = os.path.join(base_dir, \"train\")\n",
        "validation_dir = os.path.join(base_dir, \"test\")"
      ],
      "metadata": {
        "id": "IMa0r3GSgkNM"
      },
      "execution_count": null,
      "outputs": []
    },
    {
      "cell_type": "markdown",
      "source": [
        "Preprocessing"
      ],
      "metadata": {
        "id": "wJSQKP32hRtq"
      }
    },
    {
      "cell_type": "code",
      "source": [
        "from tensorflow.keras.preprocessing.image import ImageDataGenerator\n",
        "# Rescaling images\n",
        "train_datagen = ImageDataGenerator(rescale=1./255)\n",
        "test_datagen = ImageDataGenerator(rescale=1./255)\n",
        "# transform the pixel value from a range [0,255 ] to [0,1] to behave all images the same\n",
        "\n",
        "total_img_train = 4736\n",
        "total_img_test = 3568\n",
        "\n",
        "batch_size = 16 # PGCD(total_img_train,total_img_test)\n",
        "train_steps = total_img_train / batch_size\n",
        "test_steps = total_img_test / batch_size\n",
        "\n",
        "epochs = 30\n",
        "\n",
        "# Flow training images in batches of 20\n",
        "train_generator = train_datagen.flow_from_directory(\n",
        "    train_dir, # source for the training images\n",
        "    target_size=(256,256), # resizing images\n",
        "    batch_size=batch_size,\n",
        "    class_mode='categorical'\n",
        ")\n",
        "\n",
        "# Flow validation images in batches of 8\n",
        "validation_generator = test_datagen.flow_from_directory(\n",
        "    validation_dir,\n",
        "    target_size=(256,256),\n",
        "    batch_size=batch_size,\n",
        "    shuffle = False,\n",
        "    class_mode='categorical'\n",
        ")\n",
        "\n"
      ],
      "metadata": {
        "colab": {
          "base_uri": "https://localhost:8080/"
        },
        "id": "7Qt0mT1khW3b",
        "outputId": "fb498afd-f838-4f24-93da-748c3efc05ce"
      },
      "execution_count": null,
      "outputs": [
        {
          "output_type": "stream",
          "name": "stdout",
          "text": [
            "Found 4736 images belonging to 5 classes.\n",
            "Found 3568 images belonging to 5 classes.\n"
          ]
        }
      ]
    },
    {
      "cell_type": "markdown",
      "source": [
        "TODO : Regarder l'influence du batch size"
      ],
      "metadata": {
        "id": "IDiUT-SWxGJX"
      }
    },
    {
      "cell_type": "markdown",
      "source": [
        "Model Design"
      ],
      "metadata": {
        "id": "_c8pOWQbioYM"
      }
    },
    {
      "cell_type": "code",
      "source": [
        "import tensorflow as tf\n",
        "model = tf.keras.models.Sequential([\n",
        "    tf.keras.layers.Conv2D(16, (3,3), activation=\"relu\", input_shape=(256,256,3)),\n",
        "    tf.keras.layers.Conv2D(16, (3,3), activation=\"relu\"),\n",
        "\n",
        "    tf.keras.layers.MaxPooling2D(2,2),\n",
        "\n",
        "    tf.keras.layers.Conv2D(32, (3,3), activation=\"relu\"),\n",
        "    tf.keras.layers.Conv2D(32, (3,3), activation=\"relu\"),\n",
        "\n",
        "    tf.keras.layers.MaxPooling2D(2,2),\n",
        "    tf.keras.layers.Flatten(),\n",
        "    tf.keras.layers.Dense(20, activation=\"relu\"),\n",
        "    #tf.keras.layers.Dropout((0.2)),\n",
        "    tf.keras.layers.Dense(5, activation=\"softmax\")\n",
        "])"
      ],
      "metadata": {
        "id": "UhRaWdheippD"
      },
      "execution_count": null,
      "outputs": []
    },
    {
      "cell_type": "markdown",
      "source": [
        "Model Training"
      ],
      "metadata": {
        "id": "wTYXu6NMkFqi"
      }
    },
    {
      "cell_type": "code",
      "source": [
        "model.summary()\n",
        "model.compile(loss=\"categorical_crossentropy\",\n",
        "              optimizer=tf.keras.optimizers.Adam(1e-5),\n",
        "              metrics=[\"accuracy\"])"
      ],
      "metadata": {
        "colab": {
          "base_uri": "https://localhost:8080/"
        },
        "id": "ztFjCZeekFBS",
        "outputId": "0e5de51f-032c-4131-e133-f94f00d69a4a"
      },
      "execution_count": null,
      "outputs": [
        {
          "output_type": "stream",
          "name": "stdout",
          "text": [
            "Model: \"sequential\"\n",
            "_________________________________________________________________\n",
            " Layer (type)                Output Shape              Param #   \n",
            "=================================================================\n",
            " conv2d (Conv2D)             (None, 254, 254, 16)      448       \n",
            "                                                                 \n",
            " conv2d_1 (Conv2D)           (None, 252, 252, 16)      2320      \n",
            "                                                                 \n",
            " max_pooling2d (MaxPooling2D  (None, 126, 126, 16)     0         \n",
            " )                                                               \n",
            "                                                                 \n",
            " conv2d_2 (Conv2D)           (None, 124, 124, 32)      4640      \n",
            "                                                                 \n",
            " conv2d_3 (Conv2D)           (None, 122, 122, 32)      9248      \n",
            "                                                                 \n",
            " max_pooling2d_1 (MaxPooling  (None, 61, 61, 32)       0         \n",
            " 2D)                                                             \n",
            "                                                                 \n",
            " flatten (Flatten)           (None, 119072)            0         \n",
            "                                                                 \n",
            " dense (Dense)               (None, 20)                2381460   \n",
            "                                                                 \n",
            " dense_1 (Dense)             (None, 5)                 105       \n",
            "                                                                 \n",
            "=================================================================\n",
            "Total params: 2,398,221\n",
            "Trainable params: 2,398,221\n",
            "Non-trainable params: 0\n",
            "_________________________________________________________________\n"
          ]
        }
      ]
    },
    {
      "cell_type": "code",
      "source": [
        "history = model.fit(\n",
        "    train_generator,\n",
        "    steps_per_epoch=train_steps, # total images = batch_size * steps\n",
        "    epochs=epochs, \n",
        "    validation_data=validation_generator,\n",
        "    validation_steps=test_steps # total images = batch_size * steps \n",
        ") # 28min d'exécution"
      ],
      "metadata": {
        "colab": {
          "base_uri": "https://localhost:8080/"
        },
        "id": "-upb26n0tHyP",
        "outputId": "a1042d5b-d211-4103-d666-a818f65b0536"
      },
      "execution_count": null,
      "outputs": [
        {
          "output_type": "stream",
          "name": "stdout",
          "text": [
            "Epoch 1/30\n",
            "296/296 [==============================] - 93s 314ms/step - loss: 0.9822 - accuracy: 0.7010 - val_loss: 1.0714 - val_accuracy: 0.6107\n",
            "Epoch 2/30\n",
            "296/296 [==============================] - 62s 209ms/step - loss: 0.6872 - accuracy: 0.7967 - val_loss: 0.9971 - val_accuracy: 0.6544\n",
            "Epoch 3/30\n",
            "296/296 [==============================] - 62s 209ms/step - loss: 0.4961 - accuracy: 0.8585 - val_loss: 0.8700 - val_accuracy: 0.6951\n",
            "Epoch 4/30\n",
            "296/296 [==============================] - 62s 208ms/step - loss: 0.3813 - accuracy: 0.8970 - val_loss: 0.8154 - val_accuracy: 0.7267\n",
            "Epoch 5/30\n",
            "296/296 [==============================] - 61s 206ms/step - loss: 0.2987 - accuracy: 0.9240 - val_loss: 0.8274 - val_accuracy: 0.7464\n",
            "Epoch 6/30\n",
            "296/296 [==============================] - 60s 202ms/step - loss: 0.2507 - accuracy: 0.9407 - val_loss: 0.7948 - val_accuracy: 0.7719\n",
            "Epoch 7/30\n",
            "296/296 [==============================] - 59s 201ms/step - loss: 0.2034 - accuracy: 0.9521 - val_loss: 0.8090 - val_accuracy: 0.7803\n",
            "Epoch 8/30\n",
            "296/296 [==============================] - 60s 201ms/step - loss: 0.1676 - accuracy: 0.9643 - val_loss: 0.8331 - val_accuracy: 0.7741\n",
            "Epoch 9/30\n",
            "296/296 [==============================] - 59s 201ms/step - loss: 0.1421 - accuracy: 0.9711 - val_loss: 0.8139 - val_accuracy: 0.7710\n",
            "Epoch 10/30\n",
            "296/296 [==============================] - 59s 201ms/step - loss: 0.1213 - accuracy: 0.9749 - val_loss: 0.9117 - val_accuracy: 0.7514\n",
            "Epoch 11/30\n",
            "296/296 [==============================] - 60s 202ms/step - loss: 0.1033 - accuracy: 0.9789 - val_loss: 0.8552 - val_accuracy: 0.7794\n",
            "Epoch 12/30\n",
            "296/296 [==============================] - 62s 209ms/step - loss: 0.0871 - accuracy: 0.9791 - val_loss: 0.8022 - val_accuracy: 0.7915\n",
            "Epoch 13/30\n",
            "296/296 [==============================] - 62s 208ms/step - loss: 0.0766 - accuracy: 0.9837 - val_loss: 0.9171 - val_accuracy: 0.7906\n",
            "Epoch 14/30\n",
            "296/296 [==============================] - 62s 209ms/step - loss: 0.0649 - accuracy: 0.9873 - val_loss: 0.8652 - val_accuracy: 0.7976\n",
            "Epoch 15/30\n",
            "296/296 [==============================] - 62s 209ms/step - loss: 0.0562 - accuracy: 0.9901 - val_loss: 0.8834 - val_accuracy: 0.7985\n",
            "Epoch 16/30\n",
            "296/296 [==============================] - 61s 208ms/step - loss: 0.0486 - accuracy: 0.9918 - val_loss: 0.8704 - val_accuracy: 0.7946\n",
            "Epoch 17/30\n",
            "296/296 [==============================] - 60s 204ms/step - loss: 0.0396 - accuracy: 0.9939 - val_loss: 0.9698 - val_accuracy: 0.7901\n",
            "Epoch 18/30\n",
            "296/296 [==============================] - 61s 206ms/step - loss: 0.0331 - accuracy: 0.9954 - val_loss: 0.8878 - val_accuracy: 0.8049\n",
            "Epoch 19/30\n",
            "296/296 [==============================] - 59s 200ms/step - loss: 0.0286 - accuracy: 0.9968 - val_loss: 0.9115 - val_accuracy: 0.8091\n",
            "Epoch 20/30\n",
            "296/296 [==============================] - 59s 200ms/step - loss: 0.0236 - accuracy: 0.9983 - val_loss: 0.9579 - val_accuracy: 0.8010\n",
            "Epoch 21/30\n",
            "296/296 [==============================] - 60s 201ms/step - loss: 0.0208 - accuracy: 0.9985 - val_loss: 0.9263 - val_accuracy: 0.8108\n",
            "Epoch 22/30\n",
            "296/296 [==============================] - 60s 201ms/step - loss: 0.0193 - accuracy: 0.9983 - val_loss: 1.0159 - val_accuracy: 0.7943\n",
            "Epoch 23/30\n",
            "296/296 [==============================] - 59s 201ms/step - loss: 0.0178 - accuracy: 0.9992 - val_loss: 1.0295 - val_accuracy: 0.8058\n",
            "Epoch 24/30\n",
            "296/296 [==============================] - 59s 200ms/step - loss: 0.0141 - accuracy: 0.9996 - val_loss: 0.9785 - val_accuracy: 0.8111\n",
            "Epoch 25/30\n",
            "296/296 [==============================] - 60s 204ms/step - loss: 0.0117 - accuracy: 0.9996 - val_loss: 1.0054 - val_accuracy: 0.8161\n",
            "Epoch 26/30\n",
            "296/296 [==============================] - 60s 203ms/step - loss: 0.0103 - accuracy: 1.0000 - val_loss: 1.0833 - val_accuracy: 0.8128\n",
            "Epoch 27/30\n",
            "296/296 [==============================] - 60s 204ms/step - loss: 0.0097 - accuracy: 0.9996 - val_loss: 1.0141 - val_accuracy: 0.8052\n",
            "Epoch 28/30\n",
            "296/296 [==============================] - 59s 200ms/step - loss: 0.0081 - accuracy: 1.0000 - val_loss: 1.1267 - val_accuracy: 0.8131\n",
            "Epoch 29/30\n",
            "296/296 [==============================] - 60s 203ms/step - loss: 0.0078 - accuracy: 0.9996 - val_loss: 1.6519 - val_accuracy: 0.7472\n",
            "Epoch 30/30\n",
            "296/296 [==============================] - 61s 205ms/step - loss: 0.0109 - accuracy: 0.9985 - val_loss: 1.0503 - val_accuracy: 0.8206\n"
          ]
        }
      ]
    },
    {
      "cell_type": "markdown",
      "source": [
        "# Evaluation of the model"
      ],
      "metadata": {
        "id": "3Pf4e6VJMRsX"
      }
    },
    {
      "cell_type": "code",
      "source": [
        "import numpy as np\n",
        "from sklearn.metrics import classification_report, confusion_matrix\n",
        "Y_pred = model.predict_generator(validation_generator, test_steps)\n",
        "y_pred = np.argmax(Y_pred, axis=1)\n",
        "print('Confusion Matrix')\n",
        "print(confusion_matrix(validation_generator.classes, y_pred))"
      ],
      "metadata": {
        "colab": {
          "base_uri": "https://localhost:8080/"
        },
        "id": "NZ-K92UckqPa",
        "outputId": "c9702b0d-de46-499a-aa51-a990b332d2f1"
      },
      "execution_count": null,
      "outputs": [
        {
          "output_type": "stream",
          "name": "stderr",
          "text": [
            "/usr/local/lib/python3.7/dist-packages/ipykernel_launcher.py:3: UserWarning: `Model.predict_generator` is deprecated and will be removed in a future version. Please use `Model.predict`, which supports generators.\n",
            "  This is separate from the ipykernel package so we can avoid doing imports until\n"
          ]
        },
        {
          "output_type": "stream",
          "name": "stdout",
          "text": [
            "Confusion Matrix\n",
            "[[403  29 104  26   3]\n",
            " [ 26 577  12  23  33]\n",
            " [ 62   0 545  21  14]\n",
            " [ 98  17  65 686  11]\n",
            " [  1  24  47  24 717]]\n"
          ]
        }
      ]
    },
    {
      "cell_type": "code",
      "source": [
        "import matplotlib.pyplot as plt\n",
        "acc = history.history['accuracy']\n",
        "val_acc = history.history['val_accuracy']\n",
        "\n",
        "loss = history.history['loss']\n",
        "val_loss = history.history['val_loss']\n",
        "\n",
        "epochs_range = range(epochs)\n",
        "\n",
        "plt.figure(figsize=(8, 8))\n",
        "plt.subplot(1, 2, 1)\n",
        "plt.plot(epochs_range, acc, label='Training Accuracy')\n",
        "plt.plot(epochs_range, val_acc, label='Validation Accuracy')\n",
        "plt.legend(loc='lower right')\n",
        "plt.title('Training and Validation Accuracy')\n",
        "\n",
        "plt.subplot(1, 2, 2)\n",
        "plt.plot(epochs_range, loss, label='Training Loss')\n",
        "plt.plot(epochs_range, val_loss, label='Validation Loss')\n",
        "plt.legend(loc='upper right')\n",
        "plt.title('Training and Validation Loss')\n",
        "plt.show()"
      ],
      "metadata": {
        "colab": {
          "base_uri": "https://localhost:8080/",
          "height": 499
        },
        "id": "GzbZsOO25rQs",
        "outputId": "4ecf2be7-1a9b-4e49-938b-a8aef94668ac"
      },
      "execution_count": null,
      "outputs": [
        {
          "output_type": "display_data",
          "data": {
            "image/png": "[encoded data removed]",
            "text/plain": [
              "<Figure size 576x576 with 2 Axes>"
            ]
          },
          "metadata": {
            "needs_background": "light"
          }
        }
      ]
    }
  ]
}